{
 "cells": [
  {
   "cell_type": "code",
   "execution_count": 1,
   "id": "c9c03141",
   "metadata": {},
   "outputs": [
    {
     "name": "stdout",
     "output_type": "stream",
     "text": [
      "INFO: Pandarallel will run on 6 workers.\n",
      "INFO: Pandarallel will use standard multiprocessing data transfer (pipe) to transfer data between the main process and workers.\n"
     ]
    }
   ],
   "source": [
    "import pandas as pd\n",
    "import numpy as np\n",
    "from tqdm.auto import tqdm\n",
    "import seaborn as sns\n",
    "from matplotlib import pyplot as plt\n",
    "pd.set_option('display.max_columns', 100)\n",
    "\n",
    "from pandarallel import pandarallel\n",
    "pandarallel.initialize(progress_bar=True)\n",
    "\n",
    "from tqdm.auto import tqdm\n",
    "from sklearn.cluster import KMeans\n",
    "\n",
    "from selenium import webdriver\n",
    "import folium\n",
    "from geopy.distance import geodesic\n",
    "from scipy.spatial.distance import cdist\n",
    "from colors import colors"
   ]
  },
  {
   "cell_type": "code",
   "execution_count": 2,
   "id": "81de817c",
   "metadata": {},
   "outputs": [
    {
     "name": "stdout",
     "output_type": "stream",
     "text": [
      "(56704, 18)\n"
     ]
    },
    {
     "data": {
      "text/html": [
       "<div>\n",
       "<style scoped>\n",
       "    .dataframe tbody tr th:only-of-type {\n",
       "        vertical-align: middle;\n",
       "    }\n",
       "\n",
       "    .dataframe tbody tr th {\n",
       "        vertical-align: top;\n",
       "    }\n",
       "\n",
       "    .dataframe thead th {\n",
       "        text-align: right;\n",
       "    }\n",
       "</style>\n",
       "<table border=\"1\" class=\"dataframe\">\n",
       "  <thead>\n",
       "    <tr style=\"text-align: right;\">\n",
       "      <th></th>\n",
       "      <th>location_sub_locality_name</th>\n",
       "      <th>location_address</th>\n",
       "      <th>location_latitude</th>\n",
       "      <th>location_longitude</th>\n",
       "      <th>metro_name</th>\n",
       "      <th>metro_time_on_foot</th>\n",
       "      <th>sales_agent_category</th>\n",
       "      <th>price_value</th>\n",
       "      <th>area_value</th>\n",
       "      <th>living_space_value</th>\n",
       "      <th>kitchen_space_value</th>\n",
       "      <th>description</th>\n",
       "      <th>rooms</th>\n",
       "      <th>floor</th>\n",
       "      <th>floors_total</th>\n",
       "      <th>metro_time_on_transport</th>\n",
       "      <th>price_agent_fee</th>\n",
       "      <th>studio</th>\n",
       "    </tr>\n",
       "    <tr>\n",
       "      <th>cid</th>\n",
       "      <th></th>\n",
       "      <th></th>\n",
       "      <th></th>\n",
       "      <th></th>\n",
       "      <th></th>\n",
       "      <th></th>\n",
       "      <th></th>\n",
       "      <th></th>\n",
       "      <th></th>\n",
       "      <th></th>\n",
       "      <th></th>\n",
       "      <th></th>\n",
       "      <th></th>\n",
       "      <th></th>\n",
       "      <th></th>\n",
       "      <th></th>\n",
       "      <th></th>\n",
       "      <th></th>\n",
       "    </tr>\n",
       "  </thead>\n",
       "  <tbody>\n",
       "    <tr>\n",
       "      <th>10712873</th>\n",
       "      <td>ЦАО</td>\n",
       "      <td>улица Гашека, 11</td>\n",
       "      <td>55.769707</td>\n",
       "      <td>37.591117</td>\n",
       "      <td>Маяковская; Белорусская; Тверская</td>\n",
       "      <td>6; 10; 13</td>\n",
       "      <td>agency</td>\n",
       "      <td>100000.0</td>\n",
       "      <td>45.0</td>\n",
       "      <td>27.0</td>\n",
       "      <td>8.0</td>\n",
       "      <td>ID 105 Сдается от 1 мес!Отчетные документы, ре...</td>\n",
       "      <td>2.0</td>\n",
       "      <td>4.0</td>\n",
       "      <td>5.0</td>\n",
       "      <td>NaN</td>\n",
       "      <td>NaN</td>\n",
       "      <td>NaN</td>\n",
       "    </tr>\n",
       "    <tr>\n",
       "      <th>12833884</th>\n",
       "      <td>ЦАО</td>\n",
       "      <td>улица Остоженка, 25</td>\n",
       "      <td>55.739554</td>\n",
       "      <td>37.597414</td>\n",
       "      <td>Кропоткинская; Парк Культуры</td>\n",
       "      <td>7; 7</td>\n",
       "      <td>agency</td>\n",
       "      <td>500000.0</td>\n",
       "      <td>150.0</td>\n",
       "      <td>100.0</td>\n",
       "      <td>50.0</td>\n",
       "      <td>Агенту Бонус 50/50  ЖК Опера Хаус. В аренду пр...</td>\n",
       "      <td>3.0</td>\n",
       "      <td>2.0</td>\n",
       "      <td>7.0</td>\n",
       "      <td>NaN</td>\n",
       "      <td>NaN</td>\n",
       "      <td>NaN</td>\n",
       "    </tr>\n",
       "    <tr>\n",
       "      <th>145766778</th>\n",
       "      <td>ЦАО</td>\n",
       "      <td>улица Шаболовка, 23к4</td>\n",
       "      <td>55.722162</td>\n",
       "      <td>37.613090</td>\n",
       "      <td>Шаболовская</td>\n",
       "      <td>8</td>\n",
       "      <td>agency</td>\n",
       "      <td>140000.0</td>\n",
       "      <td>114.0</td>\n",
       "      <td>64.0</td>\n",
       "      <td>20.0</td>\n",
       "      <td>ЖК Созвездие капитал-1, Предлагается в аренду ...</td>\n",
       "      <td>3.0</td>\n",
       "      <td>3.0</td>\n",
       "      <td>20.0</td>\n",
       "      <td>NaN</td>\n",
       "      <td>NaN</td>\n",
       "      <td>NaN</td>\n",
       "    </tr>\n",
       "  </tbody>\n",
       "</table>\n",
       "</div>"
      ],
      "text/plain": [
       "          location_sub_locality_name       location_address  \\\n",
       "cid                                                           \n",
       "10712873                         ЦАО       улица Гашека, 11   \n",
       "12833884                         ЦАО    улица Остоженка, 25   \n",
       "145766778                        ЦАО  улица Шаболовка, 23к4   \n",
       "\n",
       "           location_latitude  location_longitude  \\\n",
       "cid                                                \n",
       "10712873           55.769707           37.591117   \n",
       "12833884           55.739554           37.597414   \n",
       "145766778          55.722162           37.613090   \n",
       "\n",
       "                                  metro_name metro_time_on_foot  \\\n",
       "cid                                                               \n",
       "10712873   Маяковская; Белорусская; Тверская          6; 10; 13   \n",
       "12833884        Кропоткинская; Парк Культуры               7; 7   \n",
       "145766778                        Шаболовская                  8   \n",
       "\n",
       "          sales_agent_category  price_value  area_value  living_space_value  \\\n",
       "cid                                                                           \n",
       "10712873                agency     100000.0        45.0                27.0   \n",
       "12833884                agency     500000.0       150.0               100.0   \n",
       "145766778               agency     140000.0       114.0                64.0   \n",
       "\n",
       "           kitchen_space_value  \\\n",
       "cid                              \n",
       "10712873                   8.0   \n",
       "12833884                  50.0   \n",
       "145766778                 20.0   \n",
       "\n",
       "                                                 description  rooms  floor  \\\n",
       "cid                                                                          \n",
       "10712873   ID 105 Сдается от 1 мес!Отчетные документы, ре...    2.0    4.0   \n",
       "12833884   Агенту Бонус 50/50  ЖК Опера Хаус. В аренду пр...    3.0    2.0   \n",
       "145766778  ЖК Созвездие капитал-1, Предлагается в аренду ...    3.0    3.0   \n",
       "\n",
       "           floors_total metro_time_on_transport  price_agent_fee  studio  \n",
       "cid                                                                       \n",
       "10712873            5.0                     NaN              NaN     NaN  \n",
       "12833884            7.0                     NaN              NaN     NaN  \n",
       "145766778          20.0                     NaN              NaN     NaN  "
      ]
     },
     "execution_count": 2,
     "metadata": {},
     "output_type": "execute_result"
    }
   ],
   "source": [
    "df = pd.read_csv('cian_short.csv', low_memory=False, index_col='cid')\n",
    "df.drop(['living_space_unit', 'location_direction', 'location_distance'], axis=1, inplace=True)\n",
    "print(df.shape)\n",
    "df.head(3)"
   ]
  },
  {
   "cell_type": "code",
   "execution_count": 3,
   "id": "b389ef0f",
   "metadata": {},
   "outputs": [
    {
     "data": {
      "image/png": "[encoded data removed]",
      "text/plain": [
       "<Figure size 432x288 with 1 Axes>"
      ]
     },
     "metadata": {
      "needs_background": "light"
     },
     "output_type": "display_data"
    }
   ],
   "source": [
    "df.isnull().sum()[df.isnull().sum()>0].sort_values(ascending=False).plot(kind='bar')\n",
    "plt.show()"
   ]
  },
  {
   "cell_type": "code",
   "execution_count": 4,
   "id": "0d2862b0",
   "metadata": {},
   "outputs": [
    {
     "name": "stdout",
     "output_type": "stream",
     "text": [
      "<class 'pandas.core.frame.DataFrame'>\n",
      "Int64Index: 56704 entries, 10712873 to 9761071\n",
      "Data columns (total 18 columns):\n",
      " #   Column                      Non-Null Count  Dtype  \n",
      "---  ------                      --------------  -----  \n",
      " 0   location_sub_locality_name  56704 non-null  object \n",
      " 1   location_address            56636 non-null  object \n",
      " 2   location_latitude           56704 non-null  float64\n",
      " 3   location_longitude          56704 non-null  float64\n",
      " 4   metro_name                  55933 non-null  object \n",
      " 5   metro_time_on_foot          49010 non-null  object \n",
      " 6   sales_agent_category        56704 non-null  object \n",
      " 7   price_value                 56704 non-null  float64\n",
      " 8   area_value                  56704 non-null  float64\n",
      " 9   living_space_value          44463 non-null  float64\n",
      " 10  kitchen_space_value         46908 non-null  float64\n",
      " 11  description                 56704 non-null  object \n",
      " 12  rooms                       54413 non-null  float64\n",
      " 13  floor                       56702 non-null  float64\n",
      " 14  floors_total                56704 non-null  float64\n",
      " 15  metro_time_on_transport     32428 non-null  object \n",
      " 16  price_agent_fee             35106 non-null  float64\n",
      " 17  studio                      2270 non-null   float64\n",
      "dtypes: float64(11), object(7)\n",
      "memory usage: 8.2+ MB\n"
     ]
    }
   ],
   "source": [
    "df.info()"
   ]
  },
  {
   "cell_type": "code",
   "execution_count": 5,
   "id": "c7bd7385",
   "metadata": {},
   "outputs": [],
   "source": [
    "sub_locality_names = sorted(df['location_sub_locality_name'].unique())\n",
    "sub_locality_colors = np.random.choice(range(len(colors)), len(sub_locality_names))"
   ]
  },
  {
   "cell_type": "code",
   "execution_count": 6,
   "id": "0a454f21",
   "metadata": {},
   "outputs": [],
   "source": [
    "# my_map = folium.Map(\n",
    "#     location=df[['location_latitude', 'location_longitude']].mean().tolist(), \n",
    "#     zoom_start = 10,\n",
    "#     disable_3d=True\n",
    "# )\n",
    "\n",
    "# for ind, row in tqdm(df.iterrows()):\n",
    "#     lat = row['location_latitude']\n",
    "#     lon = row['location_longitude']\n",
    "#     color_ind = sub_locality_names.index(row['location_sub_locality_name'])\n",
    "#     color = colors[sub_locality_colors[color_ind]].hex_format()\n",
    "#     folium.Circle(location=[lat, lon],\n",
    "#                   radius=4, fill=True, color=color\n",
    "#                  ).add_to(my_map)\n",
    "    \n",
    "# my_map.save('map.html')"
   ]
  },
  {
   "cell_type": "code",
   "execution_count": 7,
   "id": "33113bbc",
   "metadata": {},
   "outputs": [
    {
     "data": {
      "text/html": [
       "<div>\n",
       "<style scoped>\n",
       "    .dataframe tbody tr th:only-of-type {\n",
       "        vertical-align: middle;\n",
       "    }\n",
       "\n",
       "    .dataframe tbody tr th {\n",
       "        vertical-align: top;\n",
       "    }\n",
       "\n",
       "    .dataframe thead th {\n",
       "        text-align: right;\n",
       "    }\n",
       "</style>\n",
       "<table border=\"1\" class=\"dataframe\">\n",
       "  <thead>\n",
       "    <tr style=\"text-align: right;\">\n",
       "      <th></th>\n",
       "      <th>metro_name</th>\n",
       "      <th>metro_time_on_foot</th>\n",
       "      <th>metro_time_on_transport</th>\n",
       "    </tr>\n",
       "    <tr>\n",
       "      <th>cid</th>\n",
       "      <th></th>\n",
       "      <th></th>\n",
       "      <th></th>\n",
       "    </tr>\n",
       "  </thead>\n",
       "  <tbody>\n",
       "    <tr>\n",
       "      <th>274061445</th>\n",
       "      <td>Академическая</td>\n",
       "      <td>11</td>\n",
       "      <td>NaN</td>\n",
       "    </tr>\n",
       "    <tr>\n",
       "      <th>274064448</th>\n",
       "      <td>Водный стадион; Балтийская; Войковская</td>\n",
       "      <td>7; 15</td>\n",
       "      <td>5</td>\n",
       "    </tr>\n",
       "    <tr>\n",
       "      <th>274065318</th>\n",
       "      <td>Солнцево</td>\n",
       "      <td>2</td>\n",
       "      <td>NaN</td>\n",
       "    </tr>\n",
       "    <tr>\n",
       "      <th>274068212</th>\n",
       "      <td>Саларьево; Румянцево; Солнцево</td>\n",
       "      <td>NaN</td>\n",
       "      <td>3; 6; 6</td>\n",
       "    </tr>\n",
       "    <tr>\n",
       "      <th>9761071</th>\n",
       "      <td>Маяковская; Белорусская; Баррикадная</td>\n",
       "      <td>10; 14; 17</td>\n",
       "      <td>NaN</td>\n",
       "    </tr>\n",
       "  </tbody>\n",
       "</table>\n",
       "</div>"
      ],
      "text/plain": [
       "                                       metro_name metro_time_on_foot  \\\n",
       "cid                                                                    \n",
       "274061445                           Академическая                 11   \n",
       "274064448  Водный стадион; Балтийская; Войковская              7; 15   \n",
       "274065318                                Солнцево                  2   \n",
       "274068212          Саларьево; Румянцево; Солнцево                NaN   \n",
       "9761071      Маяковская; Белорусская; Баррикадная         10; 14; 17   \n",
       "\n",
       "          metro_time_on_transport  \n",
       "cid                                \n",
       "274061445                     NaN  \n",
       "274064448                       5  \n",
       "274065318                     NaN  \n",
       "274068212                 3; 6; 6  \n",
       "9761071                       NaN  "
      ]
     },
     "execution_count": 7,
     "metadata": {},
     "output_type": "execute_result"
    }
   ],
   "source": [
    "df[['metro_name', 'metro_time_on_foot', 'metro_time_on_transport']].tail()"
   ]
  },
  {
   "cell_type": "code",
   "execution_count": 8,
   "id": "cd408411",
   "metadata": {},
   "outputs": [],
   "source": [
    "df[['metro_1', 'metro_2', 'metro_3']] = df['metro_name'].str.split(';', expand=True)\n",
    "df[['metro_1_foot', 'metro_2_foot', 'metro_3_foot']\n",
    "  ] = df['metro_time_on_foot'].str.split(';', expand=True).astype(np.float32)\n",
    "df[['metro_1_transport', 'metro_2_transport', 'metro_3_transport']\n",
    "  ] = df['metro_time_on_transport'].str.split(';', expand=True).astype(np.float32)\n",
    "df = df.drop(['metro_name', 'metro_time_on_foot', 'metro_time_on_transport'], axis=1)"
   ]
  },
  {
   "cell_type": "code",
   "execution_count": 9,
   "id": "5535e3ea",
   "metadata": {},
   "outputs": [
    {
     "data": {
      "text/html": [
       "<div>\n",
       "<style scoped>\n",
       "    .dataframe tbody tr th:only-of-type {\n",
       "        vertical-align: middle;\n",
       "    }\n",
       "\n",
       "    .dataframe tbody tr th {\n",
       "        vertical-align: top;\n",
       "    }\n",
       "\n",
       "    .dataframe thead th {\n",
       "        text-align: right;\n",
       "    }\n",
       "</style>\n",
       "<table border=\"1\" class=\"dataframe\">\n",
       "  <thead>\n",
       "    <tr style=\"text-align: right;\">\n",
       "      <th></th>\n",
       "      <th>metro_1</th>\n",
       "      <th>metro_2</th>\n",
       "      <th>metro_3</th>\n",
       "      <th>metro_1_foot</th>\n",
       "      <th>metro_2_foot</th>\n",
       "      <th>metro_3_foot</th>\n",
       "      <th>metro_1_transport</th>\n",
       "      <th>metro_2_transport</th>\n",
       "      <th>metro_3_transport</th>\n",
       "      <th>metro_foot_max</th>\n",
       "      <th>metro_foot_min</th>\n",
       "      <th>metro_transport_max</th>\n",
       "      <th>metro_transport_min</th>\n",
       "    </tr>\n",
       "    <tr>\n",
       "      <th>cid</th>\n",
       "      <th></th>\n",
       "      <th></th>\n",
       "      <th></th>\n",
       "      <th></th>\n",
       "      <th></th>\n",
       "      <th></th>\n",
       "      <th></th>\n",
       "      <th></th>\n",
       "      <th></th>\n",
       "      <th></th>\n",
       "      <th></th>\n",
       "      <th></th>\n",
       "      <th></th>\n",
       "    </tr>\n",
       "  </thead>\n",
       "  <tbody>\n",
       "    <tr>\n",
       "      <th>10712873</th>\n",
       "      <td>Маяковская</td>\n",
       "      <td>Белорусская</td>\n",
       "      <td>Тверская</td>\n",
       "      <td>6.0</td>\n",
       "      <td>10.0</td>\n",
       "      <td>13.0</td>\n",
       "      <td>NaN</td>\n",
       "      <td>NaN</td>\n",
       "      <td>NaN</td>\n",
       "      <td>13.0</td>\n",
       "      <td>6.0</td>\n",
       "      <td>-1.0</td>\n",
       "      <td>999.0</td>\n",
       "    </tr>\n",
       "    <tr>\n",
       "      <th>12833884</th>\n",
       "      <td>Кропоткинская</td>\n",
       "      <td>Парк Культуры</td>\n",
       "      <td>None</td>\n",
       "      <td>7.0</td>\n",
       "      <td>7.0</td>\n",
       "      <td>NaN</td>\n",
       "      <td>NaN</td>\n",
       "      <td>NaN</td>\n",
       "      <td>NaN</td>\n",
       "      <td>7.0</td>\n",
       "      <td>7.0</td>\n",
       "      <td>-1.0</td>\n",
       "      <td>999.0</td>\n",
       "    </tr>\n",
       "    <tr>\n",
       "      <th>145766778</th>\n",
       "      <td>Шаболовская</td>\n",
       "      <td>None</td>\n",
       "      <td>None</td>\n",
       "      <td>8.0</td>\n",
       "      <td>NaN</td>\n",
       "      <td>NaN</td>\n",
       "      <td>NaN</td>\n",
       "      <td>NaN</td>\n",
       "      <td>NaN</td>\n",
       "      <td>8.0</td>\n",
       "      <td>8.0</td>\n",
       "      <td>-1.0</td>\n",
       "      <td>999.0</td>\n",
       "    </tr>\n",
       "    <tr>\n",
       "      <th>148813955</th>\n",
       "      <td>Окская</td>\n",
       "      <td>None</td>\n",
       "      <td>None</td>\n",
       "      <td>5.0</td>\n",
       "      <td>NaN</td>\n",
       "      <td>NaN</td>\n",
       "      <td>NaN</td>\n",
       "      <td>NaN</td>\n",
       "      <td>NaN</td>\n",
       "      <td>5.0</td>\n",
       "      <td>5.0</td>\n",
       "      <td>-1.0</td>\n",
       "      <td>999.0</td>\n",
       "    </tr>\n",
       "    <tr>\n",
       "      <th>148978886</th>\n",
       "      <td>Сокол</td>\n",
       "      <td>Красный Балтиец</td>\n",
       "      <td>Аэропорт</td>\n",
       "      <td>7.0</td>\n",
       "      <td>7.0</td>\n",
       "      <td>18.0</td>\n",
       "      <td>NaN</td>\n",
       "      <td>NaN</td>\n",
       "      <td>NaN</td>\n",
       "      <td>18.0</td>\n",
       "      <td>7.0</td>\n",
       "      <td>-1.0</td>\n",
       "      <td>999.0</td>\n",
       "    </tr>\n",
       "    <tr>\n",
       "      <th>...</th>\n",
       "      <td>...</td>\n",
       "      <td>...</td>\n",
       "      <td>...</td>\n",
       "      <td>...</td>\n",
       "      <td>...</td>\n",
       "      <td>...</td>\n",
       "      <td>...</td>\n",
       "      <td>...</td>\n",
       "      <td>...</td>\n",
       "      <td>...</td>\n",
       "      <td>...</td>\n",
       "      <td>...</td>\n",
       "      <td>...</td>\n",
       "    </tr>\n",
       "    <tr>\n",
       "      <th>274061445</th>\n",
       "      <td>Академическая</td>\n",
       "      <td>None</td>\n",
       "      <td>None</td>\n",
       "      <td>11.0</td>\n",
       "      <td>NaN</td>\n",
       "      <td>NaN</td>\n",
       "      <td>NaN</td>\n",
       "      <td>NaN</td>\n",
       "      <td>NaN</td>\n",
       "      <td>11.0</td>\n",
       "      <td>11.0</td>\n",
       "      <td>-1.0</td>\n",
       "      <td>999.0</td>\n",
       "    </tr>\n",
       "    <tr>\n",
       "      <th>274064448</th>\n",
       "      <td>Водный стадион</td>\n",
       "      <td>Балтийская</td>\n",
       "      <td>Войковская</td>\n",
       "      <td>7.0</td>\n",
       "      <td>15.0</td>\n",
       "      <td>NaN</td>\n",
       "      <td>5.0</td>\n",
       "      <td>NaN</td>\n",
       "      <td>NaN</td>\n",
       "      <td>15.0</td>\n",
       "      <td>7.0</td>\n",
       "      <td>5.0</td>\n",
       "      <td>5.0</td>\n",
       "    </tr>\n",
       "    <tr>\n",
       "      <th>274065318</th>\n",
       "      <td>Солнцево</td>\n",
       "      <td>None</td>\n",
       "      <td>None</td>\n",
       "      <td>2.0</td>\n",
       "      <td>NaN</td>\n",
       "      <td>NaN</td>\n",
       "      <td>NaN</td>\n",
       "      <td>NaN</td>\n",
       "      <td>NaN</td>\n",
       "      <td>2.0</td>\n",
       "      <td>2.0</td>\n",
       "      <td>-1.0</td>\n",
       "      <td>999.0</td>\n",
       "    </tr>\n",
       "    <tr>\n",
       "      <th>274068212</th>\n",
       "      <td>Саларьево</td>\n",
       "      <td>Румянцево</td>\n",
       "      <td>Солнцево</td>\n",
       "      <td>NaN</td>\n",
       "      <td>NaN</td>\n",
       "      <td>NaN</td>\n",
       "      <td>3.0</td>\n",
       "      <td>6.0</td>\n",
       "      <td>6.0</td>\n",
       "      <td>-1.0</td>\n",
       "      <td>999.0</td>\n",
       "      <td>6.0</td>\n",
       "      <td>3.0</td>\n",
       "    </tr>\n",
       "    <tr>\n",
       "      <th>9761071</th>\n",
       "      <td>Маяковская</td>\n",
       "      <td>Белорусская</td>\n",
       "      <td>Баррикадная</td>\n",
       "      <td>10.0</td>\n",
       "      <td>14.0</td>\n",
       "      <td>17.0</td>\n",
       "      <td>NaN</td>\n",
       "      <td>NaN</td>\n",
       "      <td>NaN</td>\n",
       "      <td>17.0</td>\n",
       "      <td>10.0</td>\n",
       "      <td>-1.0</td>\n",
       "      <td>999.0</td>\n",
       "    </tr>\n",
       "  </tbody>\n",
       "</table>\n",
       "<p>56704 rows × 13 columns</p>\n",
       "</div>"
      ],
      "text/plain": [
       "                  metro_1           metro_2       metro_3  metro_1_foot  \\\n",
       "cid                                                                       \n",
       "10712873       Маяковская       Белорусская      Тверская           6.0   \n",
       "12833884    Кропоткинская     Парк Культуры          None           7.0   \n",
       "145766778     Шаболовская              None          None           8.0   \n",
       "148813955          Окская              None          None           5.0   \n",
       "148978886           Сокол   Красный Балтиец      Аэропорт           7.0   \n",
       "...                   ...               ...           ...           ...   \n",
       "274061445   Академическая              None          None          11.0   \n",
       "274064448  Водный стадион        Балтийская    Войковская           7.0   \n",
       "274065318        Солнцево              None          None           2.0   \n",
       "274068212       Саларьево         Румянцево      Солнцево           NaN   \n",
       "9761071        Маяковская       Белорусская   Баррикадная          10.0   \n",
       "\n",
       "           metro_2_foot  metro_3_foot  metro_1_transport  metro_2_transport  \\\n",
       "cid                                                                           \n",
       "10712873           10.0          13.0                NaN                NaN   \n",
       "12833884            7.0           NaN                NaN                NaN   \n",
       "145766778           NaN           NaN                NaN                NaN   \n",
       "148813955           NaN           NaN                NaN                NaN   \n",
       "148978886           7.0          18.0                NaN                NaN   \n",
       "...                 ...           ...                ...                ...   \n",
       "274061445           NaN           NaN                NaN                NaN   \n",
       "274064448          15.0           NaN                5.0                NaN   \n",
       "274065318           NaN           NaN                NaN                NaN   \n",
       "274068212           NaN           NaN                3.0                6.0   \n",
       "9761071            14.0          17.0                NaN                NaN   \n",
       "\n",
       "           metro_3_transport  metro_foot_max  metro_foot_min  \\\n",
       "cid                                                            \n",
       "10712873                 NaN            13.0             6.0   \n",
       "12833884                 NaN             7.0             7.0   \n",
       "145766778                NaN             8.0             8.0   \n",
       "148813955                NaN             5.0             5.0   \n",
       "148978886                NaN            18.0             7.0   \n",
       "...                      ...             ...             ...   \n",
       "274061445                NaN            11.0            11.0   \n",
       "274064448                NaN            15.0             7.0   \n",
       "274065318                NaN             2.0             2.0   \n",
       "274068212                6.0            -1.0           999.0   \n",
       "9761071                  NaN            17.0            10.0   \n",
       "\n",
       "           metro_transport_max  metro_transport_min  \n",
       "cid                                                  \n",
       "10712873                  -1.0                999.0  \n",
       "12833884                  -1.0                999.0  \n",
       "145766778                 -1.0                999.0  \n",
       "148813955                 -1.0                999.0  \n",
       "148978886                 -1.0                999.0  \n",
       "...                        ...                  ...  \n",
       "274061445                 -1.0                999.0  \n",
       "274064448                  5.0                  5.0  \n",
       "274065318                 -1.0                999.0  \n",
       "274068212                  6.0                  3.0  \n",
       "9761071                   -1.0                999.0  \n",
       "\n",
       "[56704 rows x 13 columns]"
      ]
     },
     "execution_count": 9,
     "metadata": {},
     "output_type": "execute_result"
    }
   ],
   "source": [
    "df['metro_foot_max'] = df[['metro_1_foot', 'metro_2_foot', 'metro_3_foot']].fillna(-1).max(axis=1)\n",
    "df['metro_foot_min'] = df[['metro_1_foot', 'metro_2_foot', 'metro_3_foot']].fillna(999).min(axis=1)\n",
    "\n",
    "df['metro_transport_max'] = df[['metro_1_transport', 'metro_2_transport', 'metro_3_transport']\n",
    "                              ].fillna(-1).max(axis=1)\n",
    "df['metro_transport_min'] = df[['metro_1_transport', 'metro_2_transport', 'metro_3_transport']\n",
    "                              ].fillna(999).min(axis=1)\n",
    "df[[i for i in df.columns if 'metro' in i]]"
   ]
  },
  {
   "cell_type": "code",
   "execution_count": 10,
   "id": "4798f7cd",
   "metadata": {},
   "outputs": [],
   "source": [
    "df[['metro_1', 'metro_2', 'metro_3']] = df[['metro_1', 'metro_2', 'metro_3']].fillna('none')\n",
    "df[['metro_1_foot', 'metro_2_foot', 'metro_3_foot']\n",
    "  ] = df[['metro_1_foot', 'metro_2_foot', 'metro_3_foot']].fillna(-1)\n",
    "df[['metro_1_transport', 'metro_2_transport', 'metro_3_transport']\n",
    "  ] = df[['metro_1_transport', 'metro_2_transport', 'metro_3_transport']].fillna(-1)"
   ]
  },
  {
   "cell_type": "code",
   "execution_count": 11,
   "id": "80ddbb97",
   "metadata": {},
   "outputs": [
    {
     "data": {
      "image/png": "[encoded data removed]",
      "text/plain": [
       "<Figure size 432x288 with 1 Axes>"
      ]
     },
     "metadata": {
      "needs_background": "light"
     },
     "output_type": "display_data"
    }
   ],
   "source": [
    "df.isnull().sum()[df.isnull().sum()>0].sort_values(ascending=False).plot(kind='bar')\n",
    "plt.show()"
   ]
  },
  {
   "cell_type": "code",
   "execution_count": 12,
   "id": "d49c6c80",
   "metadata": {},
   "outputs": [],
   "source": [
    "df['price_agent_fee'] = df['price_agent_fee'].fillna(0).astype(np.uint8)\n",
    "df['studio'] = df['studio'].fillna(0).astype(np.uint8)"
   ]
  },
  {
   "cell_type": "code",
   "execution_count": 13,
   "id": "0d0bf8e2",
   "metadata": {},
   "outputs": [],
   "source": [
    "rooms_mapping = {\n",
    "    271104489: 2,\n",
    "    271587353: 0,\n",
    "    269991656: 0,\n",
    "    272082709: 3\n",
    "}\n",
    "def fill_rooms(x, missing=0):\n",
    "    return rooms_mapping.get(x.name, missing)"
   ]
  },
  {
   "cell_type": "code",
   "execution_count": 14,
   "id": "f04e18df",
   "metadata": {},
   "outputs": [],
   "source": [
    "df['rooms'] = df[['rooms']].apply(fill_rooms, axis=1)"
   ]
  },
  {
   "cell_type": "code",
   "execution_count": 18,
   "id": "bee0d08c",
   "metadata": {},
   "outputs": [
    {
     "data": {
      "text/plain": [
       "0"
      ]
     },
     "execution_count": 18,
     "metadata": {},
     "output_type": "execute_result"
    }
   ],
   "source": [
    "df['rooms'].isnull().sum()"
   ]
  },
  {
   "cell_type": "code",
   "execution_count": 23,
   "id": "579bb22a",
   "metadata": {},
   "outputs": [
    {
     "data": {
      "text/plain": [
       "price_agent_fee    0\n",
       "studio             0\n",
       "rooms              0\n",
       "dtype: int64"
      ]
     },
     "execution_count": 23,
     "metadata": {},
     "output_type": "execute_result"
    }
   ],
   "source": [
    "df[['price_agent_fee', 'studio', 'rooms']].isnull().sum()"
   ]
  },
  {
   "cell_type": "code",
   "execution_count": 15,
   "id": "2a8601e3",
   "metadata": {},
   "outputs": [
    {
     "data": {
      "text/html": [
       "<div>\n",
       "<style scoped>\n",
       "    .dataframe tbody tr th:only-of-type {\n",
       "        vertical-align: middle;\n",
       "    }\n",
       "\n",
       "    .dataframe tbody tr th {\n",
       "        vertical-align: top;\n",
       "    }\n",
       "\n",
       "    .dataframe thead th {\n",
       "        text-align: right;\n",
       "    }\n",
       "</style>\n",
       "<table border=\"1\" class=\"dataframe\">\n",
       "  <thead>\n",
       "    <tr style=\"text-align: right;\">\n",
       "      <th></th>\n",
       "      <th>location_sub_locality_name</th>\n",
       "      <th>location_address</th>\n",
       "      <th>location_latitude</th>\n",
       "      <th>location_longitude</th>\n",
       "      <th>sales_agent_category</th>\n",
       "      <th>price_value</th>\n",
       "      <th>area_value</th>\n",
       "      <th>living_space_value</th>\n",
       "      <th>kitchen_space_value</th>\n",
       "      <th>description</th>\n",
       "      <th>rooms</th>\n",
       "      <th>floor</th>\n",
       "      <th>floors_total</th>\n",
       "      <th>price_agent_fee</th>\n",
       "      <th>studio</th>\n",
       "      <th>metro_1</th>\n",
       "      <th>metro_2</th>\n",
       "      <th>metro_3</th>\n",
       "      <th>metro_1_foot</th>\n",
       "      <th>metro_2_foot</th>\n",
       "      <th>metro_3_foot</th>\n",
       "      <th>metro_1_transport</th>\n",
       "      <th>metro_2_transport</th>\n",
       "      <th>metro_3_transport</th>\n",
       "      <th>metro_foot_max</th>\n",
       "      <th>metro_foot_min</th>\n",
       "      <th>metro_transport_max</th>\n",
       "      <th>metro_transport_min</th>\n",
       "    </tr>\n",
       "    <tr>\n",
       "      <th>cid</th>\n",
       "      <th></th>\n",
       "      <th></th>\n",
       "      <th></th>\n",
       "      <th></th>\n",
       "      <th></th>\n",
       "      <th></th>\n",
       "      <th></th>\n",
       "      <th></th>\n",
       "      <th></th>\n",
       "      <th></th>\n",
       "      <th></th>\n",
       "      <th></th>\n",
       "      <th></th>\n",
       "      <th></th>\n",
       "      <th></th>\n",
       "      <th></th>\n",
       "      <th></th>\n",
       "      <th></th>\n",
       "      <th></th>\n",
       "      <th></th>\n",
       "      <th></th>\n",
       "      <th></th>\n",
       "      <th></th>\n",
       "      <th></th>\n",
       "      <th></th>\n",
       "      <th></th>\n",
       "      <th></th>\n",
       "      <th></th>\n",
       "    </tr>\n",
       "  </thead>\n",
       "  <tbody>\n",
       "    <tr>\n",
       "      <th>272459217</th>\n",
       "      <td>ЦАО</td>\n",
       "      <td>набережная Пресненская, 8с1</td>\n",
       "      <td>55.747115</td>\n",
       "      <td>37.539078</td>\n",
       "      <td>agency</td>\n",
       "      <td>700000.0</td>\n",
       "      <td>235.0</td>\n",
       "      <td>NaN</td>\n",
       "      <td>NaN</td>\n",
       "      <td>Лот  36882. Предлагаются прекрасные апартамент...</td>\n",
       "      <td>0</td>\n",
       "      <td>NaN</td>\n",
       "      <td>73.0</td>\n",
       "      <td>0</td>\n",
       "      <td>0</td>\n",
       "      <td>Международная</td>\n",
       "      <td>Выставочная</td>\n",
       "      <td>Деловой центр</td>\n",
       "      <td>4.0</td>\n",
       "      <td>-1.0</td>\n",
       "      <td>-1.0</td>\n",
       "      <td>1.0</td>\n",
       "      <td>2.0</td>\n",
       "      <td>-1.0</td>\n",
       "      <td>4.0</td>\n",
       "      <td>4.0</td>\n",
       "      <td>2.0</td>\n",
       "      <td>1.0</td>\n",
       "    </tr>\n",
       "    <tr>\n",
       "      <th>266256803</th>\n",
       "      <td>ЦАО</td>\n",
       "      <td>улица Остоженка, 7С1</td>\n",
       "      <td>55.742767</td>\n",
       "      <td>37.600792</td>\n",
       "      <td>agency</td>\n",
       "      <td>400000.0</td>\n",
       "      <td>220.0</td>\n",
       "      <td>NaN</td>\n",
       "      <td>NaN</td>\n",
       "      <td>Кристина. КОЛЛЕГАМ БОНУС 50%. БЕЗ КОМИССИИ ДЛЯ...</td>\n",
       "      <td>0</td>\n",
       "      <td>NaN</td>\n",
       "      <td>7.0</td>\n",
       "      <td>0</td>\n",
       "      <td>0</td>\n",
       "      <td>Кропоткинская</td>\n",
       "      <td>none</td>\n",
       "      <td>none</td>\n",
       "      <td>5.0</td>\n",
       "      <td>-1.0</td>\n",
       "      <td>-1.0</td>\n",
       "      <td>-1.0</td>\n",
       "      <td>-1.0</td>\n",
       "      <td>-1.0</td>\n",
       "      <td>5.0</td>\n",
       "      <td>5.0</td>\n",
       "      <td>-1.0</td>\n",
       "      <td>999.0</td>\n",
       "    </tr>\n",
       "  </tbody>\n",
       "</table>\n",
       "</div>"
      ],
      "text/plain": [
       "          location_sub_locality_name             location_address  \\\n",
       "cid                                                                 \n",
       "272459217                        ЦАО  набережная Пресненская, 8с1   \n",
       "266256803                        ЦАО         улица Остоженка, 7С1   \n",
       "\n",
       "           location_latitude  location_longitude sales_agent_category  \\\n",
       "cid                                                                     \n",
       "272459217          55.747115           37.539078               agency   \n",
       "266256803          55.742767           37.600792               agency   \n",
       "\n",
       "           price_value  area_value  living_space_value  kitchen_space_value  \\\n",
       "cid                                                                           \n",
       "272459217     700000.0       235.0                 NaN                  NaN   \n",
       "266256803     400000.0       220.0                 NaN                  NaN   \n",
       "\n",
       "                                                 description  rooms  floor  \\\n",
       "cid                                                                          \n",
       "272459217  Лот  36882. Предлагаются прекрасные апартамент...      0    NaN   \n",
       "266256803  Кристина. КОЛЛЕГАМ БОНУС 50%. БЕЗ КОМИССИИ ДЛЯ...      0    NaN   \n",
       "\n",
       "           floors_total  price_agent_fee  studio        metro_1       metro_2  \\\n",
       "cid                                                                             \n",
       "272459217          73.0                0       0  Международная   Выставочная   \n",
       "266256803           7.0                0       0  Кропоткинская          none   \n",
       "\n",
       "                  metro_3  metro_1_foot  metro_2_foot  metro_3_foot  \\\n",
       "cid                                                                   \n",
       "272459217   Деловой центр           4.0          -1.0          -1.0   \n",
       "266256803            none           5.0          -1.0          -1.0   \n",
       "\n",
       "           metro_1_transport  metro_2_transport  metro_3_transport  \\\n",
       "cid                                                                  \n",
       "272459217                1.0                2.0               -1.0   \n",
       "266256803               -1.0               -1.0               -1.0   \n",
       "\n",
       "           metro_foot_max  metro_foot_min  metro_transport_max  \\\n",
       "cid                                                              \n",
       "272459217             4.0             4.0                  2.0   \n",
       "266256803             5.0             5.0                 -1.0   \n",
       "\n",
       "           metro_transport_min  \n",
       "cid                             \n",
       "272459217                  1.0  \n",
       "266256803                999.0  "
      ]
     },
     "execution_count": 15,
     "metadata": {},
     "output_type": "execute_result"
    }
   ],
   "source": [
    "df[df['floor'].isnull()]"
   ]
  },
  {
   "cell_type": "code",
   "execution_count": 16,
   "id": "655858f8",
   "metadata": {},
   "outputs": [],
   "source": [
    "def fill_floor(row):\n",
    "    return df[df['location_address'] == row['location_address']]['floor'].median()"
   ]
  },
  {
   "cell_type": "code",
   "execution_count": 17,
   "id": "64c2230b",
   "metadata": {},
   "outputs": [],
   "source": [
    "res = df[df['floor'].isnull()].apply(fill_floor, axis=1)"
   ]
  },
  {
   "cell_type": "code",
   "execution_count": 18,
   "id": "6b0b5dc1",
   "metadata": {},
   "outputs": [],
   "source": [
    "df.loc[res.index, 'floor'] = res.values"
   ]
  },
  {
   "cell_type": "code",
   "execution_count": 19,
   "id": "047b0ab9",
   "metadata": {},
   "outputs": [],
   "source": [
    "df_agg = df.groupby('location_address').agg({'floors_total':'max'})"
   ]
  },
  {
   "cell_type": "code",
   "execution_count": 20,
   "id": "35cef90c",
   "metadata": {},
   "outputs": [],
   "source": [
    "def floors_total_adjust(row):\n",
    "    if type(row['location_address']) == float:\n",
    "        return row['floors_total']\n",
    "    else:\n",
    "        return df_agg.loc[row['location_address']]['floors_total']"
   ]
  },
  {
   "cell_type": "code",
   "execution_count": 21,
   "id": "e24ac536",
   "metadata": {},
   "outputs": [],
   "source": [
    "df['floors_total_adjust'] = df.apply(floors_total_adjust, axis=1)"
   ]
  },
  {
   "cell_type": "code",
   "execution_count": 22,
   "id": "80550cc5",
   "metadata": {},
   "outputs": [],
   "source": [
    "df['living_space_share'] = df['living_space_value'] / df['area_value']\n",
    "df['kitchen_space_share'] = df['kitchen_space_value'] / df['area_value']"
   ]
  },
  {
   "cell_type": "code",
   "execution_count": 23,
   "id": "3acc160e",
   "metadata": {},
   "outputs": [
    {
     "data": {
      "text/html": [
       "<div>\n",
       "<style scoped>\n",
       "    .dataframe tbody tr th:only-of-type {\n",
       "        vertical-align: middle;\n",
       "    }\n",
       "\n",
       "    .dataframe tbody tr th {\n",
       "        vertical-align: top;\n",
       "    }\n",
       "\n",
       "    .dataframe thead th {\n",
       "        text-align: right;\n",
       "    }\n",
       "</style>\n",
       "<table border=\"1\" class=\"dataframe\">\n",
       "  <thead>\n",
       "    <tr style=\"text-align: right;\">\n",
       "      <th></th>\n",
       "      <th>kitchen_space_share</th>\n",
       "      <th>living_space_share</th>\n",
       "    </tr>\n",
       "    <tr>\n",
       "      <th>location_sub_locality_name</th>\n",
       "      <th></th>\n",
       "      <th></th>\n",
       "    </tr>\n",
       "  </thead>\n",
       "  <tbody>\n",
       "    <tr>\n",
       "      <th>ВАО</th>\n",
       "      <td>0.181818</td>\n",
       "      <td>0.583333</td>\n",
       "    </tr>\n",
       "    <tr>\n",
       "      <th>ЗАО</th>\n",
       "      <td>0.175439</td>\n",
       "      <td>0.586207</td>\n",
       "    </tr>\n",
       "    <tr>\n",
       "      <th>НАО (Новомосковский)</th>\n",
       "      <td>0.232558</td>\n",
       "      <td>0.520000</td>\n",
       "    </tr>\n",
       "    <tr>\n",
       "      <th>САО</th>\n",
       "      <td>0.178571</td>\n",
       "      <td>0.593750</td>\n",
       "    </tr>\n",
       "    <tr>\n",
       "      <th>СВАО</th>\n",
       "      <td>0.190476</td>\n",
       "      <td>0.576271</td>\n",
       "    </tr>\n",
       "    <tr>\n",
       "      <th>СЗАО</th>\n",
       "      <td>0.181818</td>\n",
       "      <td>0.583333</td>\n",
       "    </tr>\n",
       "    <tr>\n",
       "      <th>ЦАО</th>\n",
       "      <td>0.149254</td>\n",
       "      <td>0.622222</td>\n",
       "    </tr>\n",
       "    <tr>\n",
       "      <th>ЮАО</th>\n",
       "      <td>0.189189</td>\n",
       "      <td>0.571429</td>\n",
       "    </tr>\n",
       "    <tr>\n",
       "      <th>ЮВАО</th>\n",
       "      <td>0.195122</td>\n",
       "      <td>0.571429</td>\n",
       "    </tr>\n",
       "    <tr>\n",
       "      <th>ЮЗАО</th>\n",
       "      <td>0.181818</td>\n",
       "      <td>0.577778</td>\n",
       "    </tr>\n",
       "  </tbody>\n",
       "</table>\n",
       "</div>"
      ],
      "text/plain": [
       "                            kitchen_space_share  living_space_share\n",
       "location_sub_locality_name                                         \n",
       "ВАО                                    0.181818            0.583333\n",
       "ЗАО                                    0.175439            0.586207\n",
       "НАО (Новомосковский)                   0.232558            0.520000\n",
       "САО                                    0.178571            0.593750\n",
       "СВАО                                   0.190476            0.576271\n",
       "СЗАО                                   0.181818            0.583333\n",
       "ЦАО                                    0.149254            0.622222\n",
       "ЮАО                                    0.189189            0.571429\n",
       "ЮВАО                                   0.195122            0.571429\n",
       "ЮЗАО                                   0.181818            0.577778"
      ]
     },
     "execution_count": 23,
     "metadata": {},
     "output_type": "execute_result"
    }
   ],
   "source": [
    "df_agg = df.groupby(['location_sub_locality_name'])[['kitchen_space_share', 'living_space_share']].median()\n",
    "df_agg"
   ]
  },
  {
   "cell_type": "code",
   "execution_count": 24,
   "id": "a1a0519b",
   "metadata": {},
   "outputs": [],
   "source": [
    "def fill_kitchen_space_shares(row):\n",
    "    if np.isnan(row['kitchen_space_share']):\n",
    "        return df_agg.loc[row['location_sub_locality_name']]['kitchen_space_share']\n",
    "    else:\n",
    "        return row['kitchen_space_share']\n",
    "    \n",
    "def fill_living_space_shares(row):\n",
    "    if np.isnan(row['living_space_share']):\n",
    "        return df_agg.loc[row['location_sub_locality_name']]['living_space_share']\n",
    "    else:\n",
    "        return row['living_space_share']"
   ]
  },
  {
   "cell_type": "code",
   "execution_count": 25,
   "id": "771a3623",
   "metadata": {},
   "outputs": [],
   "source": [
    "df['kitchen_space_share'] = df.apply(fill_kitchen_space_shares, axis=1)"
   ]
  },
  {
   "cell_type": "code",
   "execution_count": 26,
   "id": "918af40f",
   "metadata": {},
   "outputs": [],
   "source": [
    "df['living_space_share'] = df.apply(fill_living_space_shares, axis=1)"
   ]
  },
  {
   "cell_type": "code",
   "execution_count": 27,
   "id": "991ca6c2",
   "metadata": {},
   "outputs": [],
   "source": [
    "df['kitchen_space_value'] = df['kitchen_space_share'] * df['area_value']\n",
    "df['living_space_value'] = df['living_space_share'] * df['area_value']"
   ]
  },
  {
   "cell_type": "code",
   "execution_count": 28,
   "id": "0abc4724",
   "metadata": {},
   "outputs": [
    {
     "data": {
      "text/html": [
       "<div>\n",
       "<style scoped>\n",
       "    .dataframe tbody tr th:only-of-type {\n",
       "        vertical-align: middle;\n",
       "    }\n",
       "\n",
       "    .dataframe tbody tr th {\n",
       "        vertical-align: top;\n",
       "    }\n",
       "\n",
       "    .dataframe thead th {\n",
       "        text-align: right;\n",
       "    }\n",
       "</style>\n",
       "<table border=\"1\" class=\"dataframe\">\n",
       "  <thead>\n",
       "    <tr style=\"text-align: right;\">\n",
       "      <th></th>\n",
       "      <th>kitchen_space_share</th>\n",
       "      <th>area_value</th>\n",
       "      <th>kitchen_space_value</th>\n",
       "    </tr>\n",
       "    <tr>\n",
       "      <th>cid</th>\n",
       "      <th></th>\n",
       "      <th></th>\n",
       "      <th></th>\n",
       "    </tr>\n",
       "  </thead>\n",
       "  <tbody>\n",
       "    <tr>\n",
       "      <th>10712873</th>\n",
       "      <td>0.177778</td>\n",
       "      <td>45.0</td>\n",
       "      <td>8.000000</td>\n",
       "    </tr>\n",
       "    <tr>\n",
       "      <th>12833884</th>\n",
       "      <td>0.333333</td>\n",
       "      <td>150.0</td>\n",
       "      <td>50.000000</td>\n",
       "    </tr>\n",
       "    <tr>\n",
       "      <th>145766778</th>\n",
       "      <td>0.175439</td>\n",
       "      <td>114.0</td>\n",
       "      <td>20.000000</td>\n",
       "    </tr>\n",
       "    <tr>\n",
       "      <th>148813955</th>\n",
       "      <td>0.285714</td>\n",
       "      <td>35.0</td>\n",
       "      <td>10.000000</td>\n",
       "    </tr>\n",
       "    <tr>\n",
       "      <th>148978886</th>\n",
       "      <td>0.119760</td>\n",
       "      <td>167.0</td>\n",
       "      <td>20.000000</td>\n",
       "    </tr>\n",
       "    <tr>\n",
       "      <th>...</th>\n",
       "      <td>...</td>\n",
       "      <td>...</td>\n",
       "      <td>...</td>\n",
       "    </tr>\n",
       "    <tr>\n",
       "      <th>274061445</th>\n",
       "      <td>0.120482</td>\n",
       "      <td>83.0</td>\n",
       "      <td>10.000000</td>\n",
       "    </tr>\n",
       "    <tr>\n",
       "      <th>274064448</th>\n",
       "      <td>0.170732</td>\n",
       "      <td>41.0</td>\n",
       "      <td>7.000000</td>\n",
       "    </tr>\n",
       "    <tr>\n",
       "      <th>274065318</th>\n",
       "      <td>0.100000</td>\n",
       "      <td>100.0</td>\n",
       "      <td>10.000000</td>\n",
       "    </tr>\n",
       "    <tr>\n",
       "      <th>274068212</th>\n",
       "      <td>0.232558</td>\n",
       "      <td>67.0</td>\n",
       "      <td>15.581395</td>\n",
       "    </tr>\n",
       "    <tr>\n",
       "      <th>9761071</th>\n",
       "      <td>0.156250</td>\n",
       "      <td>32.0</td>\n",
       "      <td>5.000000</td>\n",
       "    </tr>\n",
       "  </tbody>\n",
       "</table>\n",
       "<p>56704 rows × 3 columns</p>\n",
       "</div>"
      ],
      "text/plain": [
       "           kitchen_space_share  area_value  kitchen_space_value\n",
       "cid                                                            \n",
       "10712873              0.177778        45.0             8.000000\n",
       "12833884              0.333333       150.0            50.000000\n",
       "145766778             0.175439       114.0            20.000000\n",
       "148813955             0.285714        35.0            10.000000\n",
       "148978886             0.119760       167.0            20.000000\n",
       "...                        ...         ...                  ...\n",
       "274061445             0.120482        83.0            10.000000\n",
       "274064448             0.170732        41.0             7.000000\n",
       "274065318             0.100000       100.0            10.000000\n",
       "274068212             0.232558        67.0            15.581395\n",
       "9761071               0.156250        32.0             5.000000\n",
       "\n",
       "[56704 rows x 3 columns]"
      ]
     },
     "execution_count": 28,
     "metadata": {},
     "output_type": "execute_result"
    }
   ],
   "source": [
    "df[['kitchen_space_share', 'area_value', 'kitchen_space_value']]"
   ]
  },
  {
   "cell_type": "code",
   "execution_count": 29,
   "id": "a9e7111c",
   "metadata": {},
   "outputs": [],
   "source": [
    "df.drop('location_address', axis=1, inplace=True)"
   ]
  },
  {
   "cell_type": "code",
   "execution_count": 30,
   "id": "c5626de3",
   "metadata": {},
   "outputs": [
    {
     "name": "stdout",
     "output_type": "stream",
     "text": [
      "<class 'pandas.core.frame.DataFrame'>\n",
      "Int64Index: 56704 entries, 10712873 to 9761071\n",
      "Data columns (total 30 columns):\n",
      " #   Column                      Non-Null Count  Dtype  \n",
      "---  ------                      --------------  -----  \n",
      " 0   location_sub_locality_name  56704 non-null  object \n",
      " 1   location_latitude           56704 non-null  float64\n",
      " 2   location_longitude          56704 non-null  float64\n",
      " 3   sales_agent_category        56704 non-null  object \n",
      " 4   price_value                 56704 non-null  float64\n",
      " 5   area_value                  56704 non-null  float64\n",
      " 6   living_space_value          56704 non-null  float64\n",
      " 7   kitchen_space_value         56704 non-null  float64\n",
      " 8   description                 56704 non-null  object \n",
      " 9   rooms                       56704 non-null  int64  \n",
      " 10  floor                       56704 non-null  float64\n",
      " 11  floors_total                56704 non-null  float64\n",
      " 12  price_agent_fee             56704 non-null  uint8  \n",
      " 13  studio                      56704 non-null  uint8  \n",
      " 14  metro_1                     56704 non-null  object \n",
      " 15  metro_2                     56704 non-null  object \n",
      " 16  metro_3                     56704 non-null  object \n",
      " 17  metro_1_foot                56704 non-null  float32\n",
      " 18  metro_2_foot                56704 non-null  float32\n",
      " 19  metro_3_foot                56704 non-null  float32\n",
      " 20  metro_1_transport           56704 non-null  float32\n",
      " 21  metro_2_transport           56704 non-null  float32\n",
      " 22  metro_3_transport           56704 non-null  float32\n",
      " 23  metro_foot_max              56704 non-null  float32\n",
      " 24  metro_foot_min              56704 non-null  float32\n",
      " 25  metro_transport_max         56704 non-null  float32\n",
      " 26  metro_transport_min         56704 non-null  float32\n",
      " 27  floors_total_adjust         56704 non-null  float64\n",
      " 28  living_space_share          56704 non-null  float64\n",
      " 29  kitchen_space_share         56704 non-null  float64\n",
      "dtypes: float32(10), float64(11), int64(1), object(6), uint8(2)\n",
      "memory usage: 12.5+ MB\n"
     ]
    }
   ],
   "source": [
    "df.info()"
   ]
  },
  {
   "cell_type": "code",
   "execution_count": 31,
   "id": "65f915b2",
   "metadata": {
    "scrolled": false
   },
   "outputs": [
    {
     "data": {
      "image/png": "[encoded data removed]",
      "text/plain": [
       "<Figure size 360x360 with 1 Axes>"
      ]
     },
     "metadata": {
      "needs_background": "light"
     },
     "output_type": "display_data"
    }
   ],
   "source": [
    "sns.displot(data=df, x='location_sub_locality_name', kind='hist')\n",
    "plt.xticks(rotation=45)\n",
    "plt.show()"
   ]
  },
  {
   "cell_type": "code",
   "execution_count": 32,
   "id": "fefc0c9a",
   "metadata": {},
   "outputs": [
    {
     "data": {
      "image/png": "[encoded data removed]",
      "text/plain": [
       "<Figure size 360x360 with 1 Axes>"
      ]
     },
     "metadata": {
      "needs_background": "light"
     },
     "output_type": "display_data"
    }
   ],
   "source": [
    "sns.displot(data=df, x='sales_agent_category', kind='hist')\n",
    "plt.show()"
   ]
  },
  {
   "cell_type": "code",
   "execution_count": 69,
   "id": "95e233de",
   "metadata": {},
   "outputs": [],
   "source": [
    "tmp = df.groupby('sales_agent_category', as_index=False).agg({'price_value': 'count'})\n",
    "# tmp['sales_agent_category'] = tmp['sales_agent_category'].map({'agency': 'агенство', 'owner': 'владелец'})\n",
    "tmp.columns = ['Категория продавца', 'Кол-во объявлений']\n",
    "# tmp.set_index('Категория продавца').hist()"
   ]
  },
  {
   "cell_type": "code",
   "execution_count": 70,
   "id": "97fc6590",
   "metadata": {},
   "outputs": [
    {
     "data": {
      "image/png": "[encoded data removed]",
      "text/plain": [
       "<Figure size 432x288 with 1 Axes>"
      ]
     },
     "metadata": {
      "needs_background": "light"
     },
     "output_type": "display_data"
    }
   ],
   "source": [
    "tmp.set_index('Категория продавца').plot(kind='bar', legend=None)\n",
    "plt.xticks(rotation=0)\n",
    "plt.ylabel('Кол-во объявлений')\n",
    "plt.legend = ''\n",
    "plt.show()"
   ]
  },
  {
   "cell_type": "code",
   "execution_count": 33,
   "id": "d105a3e9",
   "metadata": {},
   "outputs": [],
   "source": [
    "df['price_per_sqm'] = df['price_value'] / df['area_value']"
   ]
  },
  {
   "cell_type": "code",
   "execution_count": 34,
   "id": "01aa835d",
   "metadata": {},
   "outputs": [],
   "source": [
    "num_cols = [k for i, k in zip(df.dtypes, df.columns)  if i != 'O']"
   ]
  },
  {
   "cell_type": "code",
   "execution_count": 35,
   "id": "a79e0f8e",
   "metadata": {},
   "outputs": [],
   "source": [
    "cat_cols = ['location_sub_locality_name', 'sales_agent_category', 'metro_1', 'metro_2', 'metro_3']"
   ]
  },
  {
   "cell_type": "code",
   "execution_count": 36,
   "id": "0e6eecf3",
   "metadata": {},
   "outputs": [],
   "source": [
    "df = df[(df['price_per_sqm']<20000) & (df['price_per_sqm'] > 250)]"
   ]
  },
  {
   "cell_type": "code",
   "execution_count": 37,
   "id": "483f5d0d",
   "metadata": {},
   "outputs": [
    {
     "data": {
      "text/html": [
       "<div>\n",
       "<style scoped>\n",
       "    .dataframe tbody tr th:only-of-type {\n",
       "        vertical-align: middle;\n",
       "    }\n",
       "\n",
       "    .dataframe tbody tr th {\n",
       "        vertical-align: top;\n",
       "    }\n",
       "\n",
       "    .dataframe thead th {\n",
       "        text-align: right;\n",
       "    }\n",
       "</style>\n",
       "<table border=\"1\" class=\"dataframe\">\n",
       "  <thead>\n",
       "    <tr style=\"text-align: right;\">\n",
       "      <th></th>\n",
       "      <th>location_sub_locality_name</th>\n",
       "      <th>price_value</th>\n",
       "      <th>area_value</th>\n",
       "      <th>price_per_sqm</th>\n",
       "    </tr>\n",
       "    <tr>\n",
       "      <th>cid</th>\n",
       "      <th></th>\n",
       "      <th></th>\n",
       "      <th></th>\n",
       "      <th></th>\n",
       "    </tr>\n",
       "  </thead>\n",
       "  <tbody>\n",
       "    <tr>\n",
       "      <th>271133148</th>\n",
       "      <td>НАО (Новомосковский)</td>\n",
       "      <td>15000.0</td>\n",
       "      <td>46.0</td>\n",
       "      <td>326.086957</td>\n",
       "    </tr>\n",
       "    <tr>\n",
       "      <th>273144306</th>\n",
       "      <td>ЮЗАО</td>\n",
       "      <td>15000.0</td>\n",
       "      <td>22.0</td>\n",
       "      <td>681.818182</td>\n",
       "    </tr>\n",
       "    <tr>\n",
       "      <th>271144118</th>\n",
       "      <td>НАО (Новомосковский)</td>\n",
       "      <td>16000.0</td>\n",
       "      <td>20.0</td>\n",
       "      <td>800.000000</td>\n",
       "    </tr>\n",
       "    <tr>\n",
       "      <th>272693412</th>\n",
       "      <td>НАО (Новомосковский)</td>\n",
       "      <td>18000.0</td>\n",
       "      <td>38.0</td>\n",
       "      <td>473.684211</td>\n",
       "    </tr>\n",
       "    <tr>\n",
       "      <th>271954706</th>\n",
       "      <td>НАО (Новомосковский)</td>\n",
       "      <td>18000.0</td>\n",
       "      <td>60.0</td>\n",
       "      <td>300.000000</td>\n",
       "    </tr>\n",
       "    <tr>\n",
       "      <th>...</th>\n",
       "      <td>...</td>\n",
       "      <td>...</td>\n",
       "      <td>...</td>\n",
       "      <td>...</td>\n",
       "    </tr>\n",
       "    <tr>\n",
       "      <th>272419391</th>\n",
       "      <td>ЦАО</td>\n",
       "      <td>3000000.0</td>\n",
       "      <td>358.0</td>\n",
       "      <td>8379.888268</td>\n",
       "    </tr>\n",
       "    <tr>\n",
       "      <th>268953362</th>\n",
       "      <td>ЦАО</td>\n",
       "      <td>3000000.0</td>\n",
       "      <td>358.0</td>\n",
       "      <td>8379.888268</td>\n",
       "    </tr>\n",
       "    <tr>\n",
       "      <th>268954105</th>\n",
       "      <td>ЦАО</td>\n",
       "      <td>3000000.0</td>\n",
       "      <td>358.0</td>\n",
       "      <td>8379.888268</td>\n",
       "    </tr>\n",
       "    <tr>\n",
       "      <th>273230522</th>\n",
       "      <td>ЦАО</td>\n",
       "      <td>3102475.0</td>\n",
       "      <td>293.0</td>\n",
       "      <td>10588.651877</td>\n",
       "    </tr>\n",
       "    <tr>\n",
       "      <th>269946697</th>\n",
       "      <td>ЦАО</td>\n",
       "      <td>3643820.0</td>\n",
       "      <td>293.0</td>\n",
       "      <td>12436.245734</td>\n",
       "    </tr>\n",
       "  </tbody>\n",
       "</table>\n",
       "<p>56691 rows × 4 columns</p>\n",
       "</div>"
      ],
      "text/plain": [
       "          location_sub_locality_name  price_value  area_value  price_per_sqm\n",
       "cid                                                                         \n",
       "271133148       НАО (Новомосковский)      15000.0        46.0     326.086957\n",
       "273144306                       ЮЗАО      15000.0        22.0     681.818182\n",
       "271144118       НАО (Новомосковский)      16000.0        20.0     800.000000\n",
       "272693412       НАО (Новомосковский)      18000.0        38.0     473.684211\n",
       "271954706       НАО (Новомосковский)      18000.0        60.0     300.000000\n",
       "...                              ...          ...         ...            ...\n",
       "272419391                        ЦАО    3000000.0       358.0    8379.888268\n",
       "268953362                        ЦАО    3000000.0       358.0    8379.888268\n",
       "268954105                        ЦАО    3000000.0       358.0    8379.888268\n",
       "273230522                        ЦАО    3102475.0       293.0   10588.651877\n",
       "269946697                        ЦАО    3643820.0       293.0   12436.245734\n",
       "\n",
       "[56691 rows x 4 columns]"
      ]
     },
     "execution_count": 37,
     "metadata": {},
     "output_type": "execute_result"
    }
   ],
   "source": [
    "df.sort_values('price_value')[['location_sub_locality_name', \n",
    "                               'price_value', 'area_value', 'price_per_sqm']]"
   ]
  },
  {
   "cell_type": "code",
   "execution_count": 38,
   "id": "bbda3fd1",
   "metadata": {
    "scrolled": true
   },
   "outputs": [
    {
     "data": {
      "image/png": "[encoded data removed]",
      "text/plain": [
       "<Figure size 432x288 with 1 Axes>"
      ]
     },
     "metadata": {
      "needs_background": "light"
     },
     "output_type": "display_data"
    },
    {
     "data": {
      "image/png": "[encoded data removed]",
      "text/plain": [
       "<Figure size 432x288 with 1 Axes>"
      ]
     },
     "metadata": {
      "needs_background": "light"
     },
     "output_type": "display_data"
    },
    {
     "data": {
      "image/png": "[encoded data removed]",
      "text/plain": [
       "<Figure size 432x288 with 1 Axes>"
      ]
     },
     "metadata": {
      "needs_background": "light"
     },
     "output_type": "display_data"
    },
    {
     "data": {
      "image/png": "[encoded data removed]",
      "text/plain": [
       "<Figure size 432x288 with 1 Axes>"
      ]
     },
     "metadata": {
      "needs_background": "light"
     },
     "output_type": "display_data"
    },
    {
     "data": {
      "image/png": "[encoded data removed]",
      "text/plain": [
       "<Figure size 432x288 with 1 Axes>"
      ]
     },
     "metadata": {
      "needs_background": "light"
     },
     "output_type": "display_data"
    },
    {
     "data": {
      "image/png": "[encoded data removed]",
      "text/plain": [
       "<Figure size 432x288 with 1 Axes>"
      ]
     },
     "metadata": {
      "needs_background": "light"
     },
     "output_type": "display_data"
    },
    {
     "data": {
      "image/png": "[encoded data removed]",
      "text/plain": [
       "<Figure size 432x288 with 1 Axes>"
      ]
     },
     "metadata": {
      "needs_background": "light"
     },
     "output_type": "display_data"
    },
    {
     "data": {
      "image/png": "[encoded data removed]",
      "text/plain": [
       "<Figure size 432x288 with 1 Axes>"
      ]
     },
     "metadata": {
      "needs_background": "light"
     },
     "output_type": "display_data"
    },
    {
     "data": {
      "image/png": "[encoded data removed]",
      "text/plain": [
       "<Figure size 432x288 with 1 Axes>"
      ]
     },
     "metadata": {
      "needs_background": "light"
     },
     "output_type": "display_data"
    },
    {
     "data": {
      "image/png": "[encoded data removed]",
      "text/plain": [
       "<Figure size 432x288 with 1 Axes>"
      ]
     },
     "metadata": {
      "needs_background": "light"
     },
     "output_type": "display_data"
    },
    {
     "data": {
      "image/png": "[encoded data removed]",
      "text/plain": [
       "<Figure size 432x288 with 1 Axes>"
      ]
     },
     "metadata": {
      "needs_background": "light"
     },
     "output_type": "display_data"
    },
    {
     "data": {
      "image/png": "[encoded data removed]",
      "text/plain": [
       "<Figure size 432x288 with 1 Axes>"
      ]
     },
     "metadata": {
      "needs_background": "light"
     },
     "output_type": "display_data"
    },
    {
     "data": {
      "image/png": "[encoded data removed]",
      "text/plain": [
       "<Figure size 432x288 with 1 Axes>"
      ]
     },
     "metadata": {
      "needs_background": "light"
     },
     "output_type": "display_data"
    },
    {
     "data": {
      "image/png": "[encoded data removed]",
      "text/plain": [
       "<Figure size 432x288 with 1 Axes>"
      ]
     },
     "metadata": {
      "needs_background": "light"
     },
     "output_type": "display_data"
    },
    {
     "data": {
      "image/png": "[encoded data removed]",
      "text/plain": [
       "<Figure size 432x288 with 1 Axes>"
      ]
     },
     "metadata": {
      "needs_background": "light"
     },
     "output_type": "display_data"
    },
    {
     "data": {
      "image/png": "[encoded data removed]",
      "text/plain": [
       "<Figure size 432x288 with 1 Axes>"
      ]
     },
     "metadata": {
      "needs_background": "light"
     },
     "output_type": "display_data"
    },
    {
     "data": {
      "image/png": "[encoded data removed]",
      "text/plain": [
       "<Figure size 432x288 with 1 Axes>"
      ]
     },
     "metadata": {
      "needs_background": "light"
     },
     "output_type": "display_data"
    },
    {
     "data": {
      "image/png": "[encoded data removed]",
      "text/plain": [
       "<Figure size 432x288 with 1 Axes>"
      ]
     },
     "metadata": {
      "needs_background": "light"
     },
     "output_type": "display_data"
    },
    {
     "data": {
      "image/png": "[encoded data removed]",
      "text/plain": [
       "<Figure size 432x288 with 1 Axes>"
      ]
     },
     "metadata": {
      "needs_background": "light"
     },
     "output_type": "display_data"
    },
    {
     "data": {
      "image/png": "[encoded data removed]",
      "text/plain": [
       "<Figure size 432x288 with 1 Axes>"
      ]
     },
     "metadata": {
      "needs_background": "light"
     },
     "output_type": "display_data"
    },
    {
     "data": {
      "image/png": "[encoded data removed]",
      "text/plain": [
       "<Figure size 432x288 with 1 Axes>"
      ]
     },
     "metadata": {
      "needs_background": "light"
     },
     "output_type": "display_data"
    },
    {
     "data": {
      "image/png": "[encoded data removed]",
      "text/plain": [
       "<Figure size 432x288 with 1 Axes>"
      ]
     },
     "metadata": {
      "needs_background": "light"
     },
     "output_type": "display_data"
    },
    {
     "data": {
      "image/png": "[encoded data removed]",
      "text/plain": [
       "<Figure size 432x288 with 1 Axes>"
      ]
     },
     "metadata": {
      "needs_background": "light"
     },
     "output_type": "display_data"
    },
    {
     "data": {
      "image/png": "[encoded data removed]",
      "text/plain": [
       "<Figure size 432x288 with 1 Axes>"
      ]
     },
     "metadata": {
      "needs_background": "light"
     },
     "output_type": "display_data"
    },
    {
     "data": {
      "image/png": "[encoded data removed]",
      "text/plain": [
       "<Figure size 432x288 with 1 Axes>"
      ]
     },
     "metadata": {
      "needs_background": "light"
     },
     "output_type": "display_data"
    }
   ],
   "source": [
    "for col in num_cols:\n",
    "    sns.boxplot(data=df, y=col)\n",
    "    plt.show()"
   ]
  },
  {
   "cell_type": "code",
   "execution_count": 39,
   "id": "c4fb6766",
   "metadata": {},
   "outputs": [
    {
     "data": {
      "text/plain": [
       "['location_latitude',\n",
       " 'location_longitude',\n",
       " 'price_value',\n",
       " 'area_value',\n",
       " 'living_space_value',\n",
       " 'kitchen_space_value',\n",
       " 'rooms',\n",
       " 'floor',\n",
       " 'floors_total',\n",
       " 'price_agent_fee',\n",
       " 'studio',\n",
       " 'metro_1_foot',\n",
       " 'metro_2_foot',\n",
       " 'metro_3_foot',\n",
       " 'metro_1_transport',\n",
       " 'metro_2_transport',\n",
       " 'metro_3_transport',\n",
       " 'metro_foot_max',\n",
       " 'metro_foot_min',\n",
       " 'metro_transport_max',\n",
       " 'metro_transport_min',\n",
       " 'floors_total_adjust',\n",
       " 'living_space_share',\n",
       " 'kitchen_space_share',\n",
       " 'price_per_sqm']"
      ]
     },
     "execution_count": 39,
     "metadata": {},
     "output_type": "execute_result"
    }
   ],
   "source": [
    "num_cols"
   ]
  },
  {
   "cell_type": "code",
   "execution_count": 40,
   "id": "2ba5b8b5",
   "metadata": {},
   "outputs": [
    {
     "data": {
      "image/png": "[encoded data removed]",
      "text/plain": [
       "<Figure size 432x288 with 1 Axes>"
      ]
     },
     "metadata": {
      "needs_background": "light"
     },
     "output_type": "display_data"
    },
    {
     "data": {
      "image/png": "[encoded data removed]",
      "text/plain": [
       "<Figure size 432x288 with 1 Axes>"
      ]
     },
     "metadata": {
      "needs_background": "light"
     },
     "output_type": "display_data"
    }
   ],
   "source": [
    "sns.boxplot(data=df, y='price_per_sqm'); plt.show()\n",
    "sns.boxplot(data=df, y='price_per_sqm', x='location_sub_locality_name')\n",
    "plt.xticks(rotation=45); plt.show()"
   ]
  },
  {
   "cell_type": "code",
   "execution_count": 41,
   "id": "87c81448",
   "metadata": {},
   "outputs": [
    {
     "data": {
      "image/png": "[encoded data removed]",
      "text/plain": [
       "<Figure size 432x288 with 1 Axes>"
      ]
     },
     "metadata": {
      "needs_background": "light"
     },
     "output_type": "display_data"
    },
    {
     "data": {
      "image/png": "[encoded data removed]",
      "text/plain": [
       "<Figure size 432x288 with 1 Axes>"
      ]
     },
     "metadata": {
      "needs_background": "light"
     },
     "output_type": "display_data"
    },
    {
     "data": {
      "image/png": "[encoded data removed]",
      "text/plain": [
       "<Figure size 432x288 with 1 Axes>"
      ]
     },
     "metadata": {
      "needs_background": "light"
     },
     "output_type": "display_data"
    },
    {
     "data": {
      "image/png": "[encoded data removed]",
      "text/plain": [
       "<Figure size 432x288 with 1 Axes>"
      ]
     },
     "metadata": {
      "needs_background": "light"
     },
     "output_type": "display_data"
    }
   ],
   "source": [
    "sns.boxplot(data=df, y='price_per_sqm')\n",
    "plt.show()\n",
    "for col in cat_cols[:2] + ['studio']:\n",
    "    sns.boxplot(data=df, y='price_per_sqm', x=col)\n",
    "    plt.show()"
   ]
  },
  {
   "cell_type": "code",
   "execution_count": 42,
   "id": "d9929ecd",
   "metadata": {},
   "outputs": [
    {
     "data": {
      "text/html": [
       "<div>\n",
       "<style scoped>\n",
       "    .dataframe tbody tr th:only-of-type {\n",
       "        vertical-align: middle;\n",
       "    }\n",
       "\n",
       "    .dataframe tbody tr th {\n",
       "        vertical-align: top;\n",
       "    }\n",
       "\n",
       "    .dataframe thead th {\n",
       "        text-align: right;\n",
       "    }\n",
       "</style>\n",
       "<table border=\"1\" class=\"dataframe\">\n",
       "  <thead>\n",
       "    <tr style=\"text-align: right;\">\n",
       "      <th></th>\n",
       "      <th>price_per_sqm</th>\n",
       "      <th>location_sub_locality_name</th>\n",
       "      <th>location_latitude</th>\n",
       "      <th>location_longitude</th>\n",
       "      <th>sales_agent_category</th>\n",
       "      <th>price_value</th>\n",
       "      <th>area_value</th>\n",
       "      <th>living_space_value</th>\n",
       "      <th>kitchen_space_value</th>\n",
       "      <th>description</th>\n",
       "      <th>rooms</th>\n",
       "      <th>floor</th>\n",
       "      <th>floors_total</th>\n",
       "      <th>price_agent_fee</th>\n",
       "      <th>studio</th>\n",
       "      <th>metro_1</th>\n",
       "      <th>metro_2</th>\n",
       "      <th>metro_3</th>\n",
       "      <th>metro_1_foot</th>\n",
       "      <th>metro_2_foot</th>\n",
       "      <th>metro_3_foot</th>\n",
       "      <th>metro_1_transport</th>\n",
       "      <th>metro_2_transport</th>\n",
       "      <th>metro_3_transport</th>\n",
       "      <th>metro_foot_max</th>\n",
       "      <th>metro_foot_min</th>\n",
       "      <th>metro_transport_max</th>\n",
       "      <th>metro_transport_min</th>\n",
       "      <th>floors_total_adjust</th>\n",
       "      <th>living_space_share</th>\n",
       "      <th>kitchen_space_share</th>\n",
       "      <th>price_per_sqm</th>\n",
       "    </tr>\n",
       "    <tr>\n",
       "      <th>cid</th>\n",
       "      <th></th>\n",
       "      <th></th>\n",
       "      <th></th>\n",
       "      <th></th>\n",
       "      <th></th>\n",
       "      <th></th>\n",
       "      <th></th>\n",
       "      <th></th>\n",
       "      <th></th>\n",
       "      <th></th>\n",
       "      <th></th>\n",
       "      <th></th>\n",
       "      <th></th>\n",
       "      <th></th>\n",
       "      <th></th>\n",
       "      <th></th>\n",
       "      <th></th>\n",
       "      <th></th>\n",
       "      <th></th>\n",
       "      <th></th>\n",
       "      <th></th>\n",
       "      <th></th>\n",
       "      <th></th>\n",
       "      <th></th>\n",
       "      <th></th>\n",
       "      <th></th>\n",
       "      <th></th>\n",
       "      <th></th>\n",
       "      <th></th>\n",
       "      <th></th>\n",
       "      <th></th>\n",
       "      <th></th>\n",
       "    </tr>\n",
       "  </thead>\n",
       "  <tbody>\n",
       "    <tr>\n",
       "      <th>272424754</th>\n",
       "      <td>13000.000000</td>\n",
       "      <td>ЮАО</td>\n",
       "      <td>55.675072</td>\n",
       "      <td>37.667815</td>\n",
       "      <td>agency</td>\n",
       "      <td>39000.0</td>\n",
       "      <td>3.0</td>\n",
       "      <td>1.714286</td>\n",
       "      <td>0.567568</td>\n",
       "      <td>Сдаётся на длительный срок отличная, просторна...</td>\n",
       "      <td>0</td>\n",
       "      <td>4.0</td>\n",
       "      <td>5.0</td>\n",
       "      <td>99</td>\n",
       "      <td>0</td>\n",
       "      <td>Коломенская</td>\n",
       "      <td>Технопарк</td>\n",
       "      <td>Каширская</td>\n",
       "      <td>4.0</td>\n",
       "      <td>-1.0</td>\n",
       "      <td>-1.0</td>\n",
       "      <td>5.0</td>\n",
       "      <td>6.0</td>\n",
       "      <td>-1.0</td>\n",
       "      <td>4.0</td>\n",
       "      <td>4.0</td>\n",
       "      <td>6.0</td>\n",
       "      <td>5.0</td>\n",
       "      <td>5.0</td>\n",
       "      <td>0.571429</td>\n",
       "      <td>0.189189</td>\n",
       "      <td>13000.000000</td>\n",
       "    </tr>\n",
       "    <tr>\n",
       "      <th>269946697</th>\n",
       "      <td>12436.245734</td>\n",
       "      <td>ЦАО</td>\n",
       "      <td>55.738171</td>\n",
       "      <td>37.602894</td>\n",
       "      <td>agency</td>\n",
       "      <td>3643820.0</td>\n",
       "      <td>293.0</td>\n",
       "      <td>185.000000</td>\n",
       "      <td>40.000000</td>\n",
       "      <td>Лот 113824. Предлагается в аренду КВАРТИРА на ...</td>\n",
       "      <td>0</td>\n",
       "      <td>1.0</td>\n",
       "      <td>6.0</td>\n",
       "      <td>0</td>\n",
       "      <td>0</td>\n",
       "      <td>Парк Культуры</td>\n",
       "      <td>Кропоткинская</td>\n",
       "      <td>none</td>\n",
       "      <td>10.0</td>\n",
       "      <td>11.0</td>\n",
       "      <td>-1.0</td>\n",
       "      <td>-1.0</td>\n",
       "      <td>-1.0</td>\n",
       "      <td>-1.0</td>\n",
       "      <td>11.0</td>\n",
       "      <td>10.0</td>\n",
       "      <td>-1.0</td>\n",
       "      <td>999.0</td>\n",
       "      <td>6.0</td>\n",
       "      <td>0.631399</td>\n",
       "      <td>0.136519</td>\n",
       "      <td>12436.245734</td>\n",
       "    </tr>\n",
       "    <tr>\n",
       "      <th>273005944</th>\n",
       "      <td>12000.000000</td>\n",
       "      <td>ЦАО</td>\n",
       "      <td>55.734420</td>\n",
       "      <td>37.583948</td>\n",
       "      <td>agency</td>\n",
       "      <td>1200000.0</td>\n",
       "      <td>100.0</td>\n",
       "      <td>62.222222</td>\n",
       "      <td>14.925373</td>\n",
       "      <td>Лот  36970. Предлагается в аренду стильная ква...</td>\n",
       "      <td>0</td>\n",
       "      <td>4.0</td>\n",
       "      <td>7.0</td>\n",
       "      <td>0</td>\n",
       "      <td>0</td>\n",
       "      <td>Парк Культуры</td>\n",
       "      <td>Фрунзенская</td>\n",
       "      <td>Смоленская</td>\n",
       "      <td>7.0</td>\n",
       "      <td>18.0</td>\n",
       "      <td>-1.0</td>\n",
       "      <td>4.0</td>\n",
       "      <td>-1.0</td>\n",
       "      <td>-1.0</td>\n",
       "      <td>18.0</td>\n",
       "      <td>7.0</td>\n",
       "      <td>4.0</td>\n",
       "      <td>4.0</td>\n",
       "      <td>8.0</td>\n",
       "      <td>0.622222</td>\n",
       "      <td>0.149254</td>\n",
       "      <td>12000.000000</td>\n",
       "    </tr>\n",
       "    <tr>\n",
       "      <th>273230522</th>\n",
       "      <td>10588.651877</td>\n",
       "      <td>ЦАО</td>\n",
       "      <td>55.738171</td>\n",
       "      <td>37.602894</td>\n",
       "      <td>agency</td>\n",
       "      <td>3102475.0</td>\n",
       "      <td>293.0</td>\n",
       "      <td>185.000000</td>\n",
       "      <td>40.000000</td>\n",
       "      <td>Лот 113824. Предлагается в аренду КВАРТИРА на ...</td>\n",
       "      <td>0</td>\n",
       "      <td>1.0</td>\n",
       "      <td>6.0</td>\n",
       "      <td>0</td>\n",
       "      <td>0</td>\n",
       "      <td>Парк Культуры</td>\n",
       "      <td>Кропоткинская</td>\n",
       "      <td>none</td>\n",
       "      <td>10.0</td>\n",
       "      <td>11.0</td>\n",
       "      <td>-1.0</td>\n",
       "      <td>-1.0</td>\n",
       "      <td>-1.0</td>\n",
       "      <td>-1.0</td>\n",
       "      <td>11.0</td>\n",
       "      <td>10.0</td>\n",
       "      <td>-1.0</td>\n",
       "      <td>999.0</td>\n",
       "      <td>6.0</td>\n",
       "      <td>0.631399</td>\n",
       "      <td>0.136519</td>\n",
       "      <td>10588.651877</td>\n",
       "    </tr>\n",
       "    <tr>\n",
       "      <th>272782870</th>\n",
       "      <td>10555.555556</td>\n",
       "      <td>СВАО</td>\n",
       "      <td>55.834421</td>\n",
       "      <td>37.659596</td>\n",
       "      <td>agency</td>\n",
       "      <td>570000.0</td>\n",
       "      <td>54.0</td>\n",
       "      <td>31.118644</td>\n",
       "      <td>10.285714</td>\n",
       "      <td>КЛЮЧИ НА РУКАХ! ОФИС В ЖК!Эта просторная двухк...</td>\n",
       "      <td>0</td>\n",
       "      <td>20.0</td>\n",
       "      <td>38.0</td>\n",
       "      <td>0</td>\n",
       "      <td>0</td>\n",
       "      <td>Ростокино</td>\n",
       "      <td>Выставочный центр</td>\n",
       "      <td>ВДНХ</td>\n",
       "      <td>11.0</td>\n",
       "      <td>-1.0</td>\n",
       "      <td>-1.0</td>\n",
       "      <td>4.0</td>\n",
       "      <td>6.0</td>\n",
       "      <td>-1.0</td>\n",
       "      <td>11.0</td>\n",
       "      <td>11.0</td>\n",
       "      <td>6.0</td>\n",
       "      <td>4.0</td>\n",
       "      <td>38.0</td>\n",
       "      <td>0.576271</td>\n",
       "      <td>0.190476</td>\n",
       "      <td>10555.555556</td>\n",
       "    </tr>\n",
       "    <tr>\n",
       "      <th>...</th>\n",
       "      <td>...</td>\n",
       "      <td>...</td>\n",
       "      <td>...</td>\n",
       "      <td>...</td>\n",
       "      <td>...</td>\n",
       "      <td>...</td>\n",
       "      <td>...</td>\n",
       "      <td>...</td>\n",
       "      <td>...</td>\n",
       "      <td>...</td>\n",
       "      <td>...</td>\n",
       "      <td>...</td>\n",
       "      <td>...</td>\n",
       "      <td>...</td>\n",
       "      <td>...</td>\n",
       "      <td>...</td>\n",
       "      <td>...</td>\n",
       "      <td>...</td>\n",
       "      <td>...</td>\n",
       "      <td>...</td>\n",
       "      <td>...</td>\n",
       "      <td>...</td>\n",
       "      <td>...</td>\n",
       "      <td>...</td>\n",
       "      <td>...</td>\n",
       "      <td>...</td>\n",
       "      <td>...</td>\n",
       "      <td>...</td>\n",
       "      <td>...</td>\n",
       "      <td>...</td>\n",
       "      <td>...</td>\n",
       "      <td>...</td>\n",
       "    </tr>\n",
       "    <tr>\n",
       "      <th>273138702</th>\n",
       "      <td>4166.666667</td>\n",
       "      <td>ЦАО</td>\n",
       "      <td>55.753169</td>\n",
       "      <td>37.547701</td>\n",
       "      <td>agency</td>\n",
       "      <td>350000.0</td>\n",
       "      <td>84.0</td>\n",
       "      <td>50.000000</td>\n",
       "      <td>15.000000</td>\n",
       "      <td>ВЫГОДНОЕ ВТОРИЧНОЕ ПРЕДЛОЖЕНИЕ. Функциональные...</td>\n",
       "      <td>0</td>\n",
       "      <td>36.0</td>\n",
       "      <td>79.0</td>\n",
       "      <td>10</td>\n",
       "      <td>0</td>\n",
       "      <td>Выставочная</td>\n",
       "      <td>Деловой центр</td>\n",
       "      <td>Тестовская</td>\n",
       "      <td>6.0</td>\n",
       "      <td>11.0</td>\n",
       "      <td>13.0</td>\n",
       "      <td>-1.0</td>\n",
       "      <td>-1.0</td>\n",
       "      <td>-1.0</td>\n",
       "      <td>13.0</td>\n",
       "      <td>6.0</td>\n",
       "      <td>-1.0</td>\n",
       "      <td>999.0</td>\n",
       "      <td>79.0</td>\n",
       "      <td>0.595238</td>\n",
       "      <td>0.178571</td>\n",
       "      <td>4166.666667</td>\n",
       "    </tr>\n",
       "    <tr>\n",
       "      <th>270986809</th>\n",
       "      <td>4166.666667</td>\n",
       "      <td>ЦАО</td>\n",
       "      <td>55.749380</td>\n",
       "      <td>37.534092</td>\n",
       "      <td>agency</td>\n",
       "      <td>375000.0</td>\n",
       "      <td>90.0</td>\n",
       "      <td>56.000000</td>\n",
       "      <td>13.432836</td>\n",
       "      <td>Предлагаются в аренду двухкомнатные просторные...</td>\n",
       "      <td>0</td>\n",
       "      <td>19.0</td>\n",
       "      <td>85.0</td>\n",
       "      <td>0</td>\n",
       "      <td>0</td>\n",
       "      <td>Деловой центр</td>\n",
       "      <td>none</td>\n",
       "      <td>none</td>\n",
       "      <td>2.0</td>\n",
       "      <td>-1.0</td>\n",
       "      <td>-1.0</td>\n",
       "      <td>-1.0</td>\n",
       "      <td>-1.0</td>\n",
       "      <td>-1.0</td>\n",
       "      <td>2.0</td>\n",
       "      <td>2.0</td>\n",
       "      <td>-1.0</td>\n",
       "      <td>999.0</td>\n",
       "      <td>88.0</td>\n",
       "      <td>0.622222</td>\n",
       "      <td>0.149254</td>\n",
       "      <td>4166.666667</td>\n",
       "    </tr>\n",
       "    <tr>\n",
       "      <th>268843348</th>\n",
       "      <td>4166.666667</td>\n",
       "      <td>ЦАО</td>\n",
       "      <td>55.750520</td>\n",
       "      <td>37.539401</td>\n",
       "      <td>agency</td>\n",
       "      <td>250000.0</td>\n",
       "      <td>60.0</td>\n",
       "      <td>37.333333</td>\n",
       "      <td>15.000000</td>\n",
       "      <td>Башня Меркурий. Видовые апартаменты. Полностью...</td>\n",
       "      <td>0</td>\n",
       "      <td>50.0</td>\n",
       "      <td>75.0</td>\n",
       "      <td>0</td>\n",
       "      <td>0</td>\n",
       "      <td>Деловой центр</td>\n",
       "      <td>Выставочная</td>\n",
       "      <td>Международная</td>\n",
       "      <td>2.0</td>\n",
       "      <td>7.0</td>\n",
       "      <td>7.0</td>\n",
       "      <td>-1.0</td>\n",
       "      <td>-1.0</td>\n",
       "      <td>-1.0</td>\n",
       "      <td>7.0</td>\n",
       "      <td>2.0</td>\n",
       "      <td>-1.0</td>\n",
       "      <td>999.0</td>\n",
       "      <td>81.0</td>\n",
       "      <td>0.622222</td>\n",
       "      <td>0.250000</td>\n",
       "      <td>4166.666667</td>\n",
       "    </tr>\n",
       "    <tr>\n",
       "      <th>272857152</th>\n",
       "      <td>4166.666667</td>\n",
       "      <td>ЦАО</td>\n",
       "      <td>55.751584</td>\n",
       "      <td>37.535332</td>\n",
       "      <td>agency</td>\n",
       "      <td>300000.0</td>\n",
       "      <td>72.0</td>\n",
       "      <td>45.000000</td>\n",
       "      <td>8.000000</td>\n",
       "      <td>ЛОТ 13712. ПРЯМОЙ ПРЕДСТАВИТЕЛЬ СОБСТВЕННИКА! ...</td>\n",
       "      <td>0</td>\n",
       "      <td>30.0</td>\n",
       "      <td>75.0</td>\n",
       "      <td>0</td>\n",
       "      <td>0</td>\n",
       "      <td>Деловой центр</td>\n",
       "      <td>Выставочная</td>\n",
       "      <td>Международная</td>\n",
       "      <td>2.0</td>\n",
       "      <td>3.0</td>\n",
       "      <td>3.0</td>\n",
       "      <td>-1.0</td>\n",
       "      <td>-1.0</td>\n",
       "      <td>-1.0</td>\n",
       "      <td>3.0</td>\n",
       "      <td>2.0</td>\n",
       "      <td>-1.0</td>\n",
       "      <td>999.0</td>\n",
       "      <td>90.0</td>\n",
       "      <td>0.625000</td>\n",
       "      <td>0.111111</td>\n",
       "      <td>4166.666667</td>\n",
       "    </tr>\n",
       "    <tr>\n",
       "      <th>263244065</th>\n",
       "      <td>4166.666667</td>\n",
       "      <td>ЦАО</td>\n",
       "      <td>55.751584</td>\n",
       "      <td>37.535332</td>\n",
       "      <td>agency</td>\n",
       "      <td>300000.0</td>\n",
       "      <td>72.0</td>\n",
       "      <td>44.800000</td>\n",
       "      <td>10.746269</td>\n",
       "      <td>Предлагаются в аренду двухкомнатные апартамент...</td>\n",
       "      <td>0</td>\n",
       "      <td>30.0</td>\n",
       "      <td>79.0</td>\n",
       "      <td>0</td>\n",
       "      <td>0</td>\n",
       "      <td>Деловой центр</td>\n",
       "      <td>none</td>\n",
       "      <td>none</td>\n",
       "      <td>5.0</td>\n",
       "      <td>-1.0</td>\n",
       "      <td>-1.0</td>\n",
       "      <td>-1.0</td>\n",
       "      <td>-1.0</td>\n",
       "      <td>-1.0</td>\n",
       "      <td>5.0</td>\n",
       "      <td>5.0</td>\n",
       "      <td>-1.0</td>\n",
       "      <td>999.0</td>\n",
       "      <td>90.0</td>\n",
       "      <td>0.622222</td>\n",
       "      <td>0.149254</td>\n",
       "      <td>4166.666667</td>\n",
       "    </tr>\n",
       "  </tbody>\n",
       "</table>\n",
       "<p>566 rows × 32 columns</p>\n",
       "</div>"
      ],
      "text/plain": [
       "           price_per_sqm location_sub_locality_name  location_latitude  \\\n",
       "cid                                                                      \n",
       "272424754   13000.000000                        ЮАО          55.675072   \n",
       "269946697   12436.245734                        ЦАО          55.738171   \n",
       "273005944   12000.000000                        ЦАО          55.734420   \n",
       "273230522   10588.651877                        ЦАО          55.738171   \n",
       "272782870   10555.555556                       СВАО          55.834421   \n",
       "...                  ...                        ...                ...   \n",
       "273138702    4166.666667                        ЦАО          55.753169   \n",
       "270986809    4166.666667                        ЦАО          55.749380   \n",
       "268843348    4166.666667                        ЦАО          55.750520   \n",
       "272857152    4166.666667                        ЦАО          55.751584   \n",
       "263244065    4166.666667                        ЦАО          55.751584   \n",
       "\n",
       "           location_longitude sales_agent_category  price_value  area_value  \\\n",
       "cid                                                                           \n",
       "272424754           37.667815               agency      39000.0         3.0   \n",
       "269946697           37.602894               agency    3643820.0       293.0   \n",
       "273005944           37.583948               agency    1200000.0       100.0   \n",
       "273230522           37.602894               agency    3102475.0       293.0   \n",
       "272782870           37.659596               agency     570000.0        54.0   \n",
       "...                       ...                  ...          ...         ...   \n",
       "273138702           37.547701               agency     350000.0        84.0   \n",
       "270986809           37.534092               agency     375000.0        90.0   \n",
       "268843348           37.539401               agency     250000.0        60.0   \n",
       "272857152           37.535332               agency     300000.0        72.0   \n",
       "263244065           37.535332               agency     300000.0        72.0   \n",
       "\n",
       "           living_space_value  kitchen_space_value  \\\n",
       "cid                                                  \n",
       "272424754            1.714286             0.567568   \n",
       "269946697          185.000000            40.000000   \n",
       "273005944           62.222222            14.925373   \n",
       "273230522          185.000000            40.000000   \n",
       "272782870           31.118644            10.285714   \n",
       "...                       ...                  ...   \n",
       "273138702           50.000000            15.000000   \n",
       "270986809           56.000000            13.432836   \n",
       "268843348           37.333333            15.000000   \n",
       "272857152           45.000000             8.000000   \n",
       "263244065           44.800000            10.746269   \n",
       "\n",
       "                                                 description  rooms  floor  \\\n",
       "cid                                                                          \n",
       "272424754  Сдаётся на длительный срок отличная, просторна...      0    4.0   \n",
       "269946697  Лот 113824. Предлагается в аренду КВАРТИРА на ...      0    1.0   \n",
       "273005944  Лот  36970. Предлагается в аренду стильная ква...      0    4.0   \n",
       "273230522  Лот 113824. Предлагается в аренду КВАРТИРА на ...      0    1.0   \n",
       "272782870  КЛЮЧИ НА РУКАХ! ОФИС В ЖК!Эта просторная двухк...      0   20.0   \n",
       "...                                                      ...    ...    ...   \n",
       "273138702  ВЫГОДНОЕ ВТОРИЧНОЕ ПРЕДЛОЖЕНИЕ. Функциональные...      0   36.0   \n",
       "270986809  Предлагаются в аренду двухкомнатные просторные...      0   19.0   \n",
       "268843348  Башня Меркурий. Видовые апартаменты. Полностью...      0   50.0   \n",
       "272857152  ЛОТ 13712. ПРЯМОЙ ПРЕДСТАВИТЕЛЬ СОБСТВЕННИКА! ...      0   30.0   \n",
       "263244065  Предлагаются в аренду двухкомнатные апартамент...      0   30.0   \n",
       "\n",
       "           floors_total  price_agent_fee  studio        metro_1  \\\n",
       "cid                                                               \n",
       "272424754           5.0               99       0    Коломенская   \n",
       "269946697           6.0                0       0  Парк Культуры   \n",
       "273005944           7.0                0       0  Парк Культуры   \n",
       "273230522           6.0                0       0  Парк Культуры   \n",
       "272782870          38.0                0       0      Ростокино   \n",
       "...                 ...              ...     ...            ...   \n",
       "273138702          79.0               10       0    Выставочная   \n",
       "270986809          85.0                0       0  Деловой центр   \n",
       "268843348          75.0                0       0  Деловой центр   \n",
       "272857152          75.0                0       0  Деловой центр   \n",
       "263244065          79.0                0       0  Деловой центр   \n",
       "\n",
       "                      metro_2         metro_3  metro_1_foot  metro_2_foot  \\\n",
       "cid                                                                         \n",
       "272424754           Технопарк       Каширская           4.0          -1.0   \n",
       "269946697       Кропоткинская            none          10.0          11.0   \n",
       "273005944         Фрунзенская      Смоленская           7.0          18.0   \n",
       "273230522       Кропоткинская            none          10.0          11.0   \n",
       "272782870   Выставочный центр            ВДНХ          11.0          -1.0   \n",
       "...                       ...             ...           ...           ...   \n",
       "273138702       Деловой центр      Тестовская           6.0          11.0   \n",
       "270986809                none            none           2.0          -1.0   \n",
       "268843348         Выставочная   Международная           2.0           7.0   \n",
       "272857152         Выставочная   Международная           2.0           3.0   \n",
       "263244065                none            none           5.0          -1.0   \n",
       "\n",
       "           metro_3_foot  metro_1_transport  metro_2_transport  \\\n",
       "cid                                                             \n",
       "272424754          -1.0                5.0                6.0   \n",
       "269946697          -1.0               -1.0               -1.0   \n",
       "273005944          -1.0                4.0               -1.0   \n",
       "273230522          -1.0               -1.0               -1.0   \n",
       "272782870          -1.0                4.0                6.0   \n",
       "...                 ...                ...                ...   \n",
       "273138702          13.0               -1.0               -1.0   \n",
       "270986809          -1.0               -1.0               -1.0   \n",
       "268843348           7.0               -1.0               -1.0   \n",
       "272857152           3.0               -1.0               -1.0   \n",
       "263244065          -1.0               -1.0               -1.0   \n",
       "\n",
       "           metro_3_transport  metro_foot_max  metro_foot_min  \\\n",
       "cid                                                            \n",
       "272424754               -1.0             4.0             4.0   \n",
       "269946697               -1.0            11.0            10.0   \n",
       "273005944               -1.0            18.0             7.0   \n",
       "273230522               -1.0            11.0            10.0   \n",
       "272782870               -1.0            11.0            11.0   \n",
       "...                      ...             ...             ...   \n",
       "273138702               -1.0            13.0             6.0   \n",
       "270986809               -1.0             2.0             2.0   \n",
       "268843348               -1.0             7.0             2.0   \n",
       "272857152               -1.0             3.0             2.0   \n",
       "263244065               -1.0             5.0             5.0   \n",
       "\n",
       "           metro_transport_max  metro_transport_min  floors_total_adjust  \\\n",
       "cid                                                                        \n",
       "272424754                  6.0                  5.0                  5.0   \n",
       "269946697                 -1.0                999.0                  6.0   \n",
       "273005944                  4.0                  4.0                  8.0   \n",
       "273230522                 -1.0                999.0                  6.0   \n",
       "272782870                  6.0                  4.0                 38.0   \n",
       "...                        ...                  ...                  ...   \n",
       "273138702                 -1.0                999.0                 79.0   \n",
       "270986809                 -1.0                999.0                 88.0   \n",
       "268843348                 -1.0                999.0                 81.0   \n",
       "272857152                 -1.0                999.0                 90.0   \n",
       "263244065                 -1.0                999.0                 90.0   \n",
       "\n",
       "           living_space_share  kitchen_space_share  price_per_sqm  \n",
       "cid                                                                \n",
       "272424754            0.571429             0.189189   13000.000000  \n",
       "269946697            0.631399             0.136519   12436.245734  \n",
       "273005944            0.622222             0.149254   12000.000000  \n",
       "273230522            0.631399             0.136519   10588.651877  \n",
       "272782870            0.576271             0.190476   10555.555556  \n",
       "...                       ...                  ...            ...  \n",
       "273138702            0.595238             0.178571    4166.666667  \n",
       "270986809            0.622222             0.149254    4166.666667  \n",
       "268843348            0.622222             0.250000    4166.666667  \n",
       "272857152            0.625000             0.111111    4166.666667  \n",
       "263244065            0.622222             0.149254    4166.666667  \n",
       "\n",
       "[566 rows x 32 columns]"
      ]
     },
     "execution_count": 42,
     "metadata": {},
     "output_type": "execute_result"
    }
   ],
   "source": [
    "df.sort_values('price_per_sqm', ascending=False).head(int(len(df)*0.01))[['price_per_sqm']+df.columns.tolist()]"
   ]
  },
  {
   "cell_type": "code",
   "execution_count": 43,
   "id": "55a9b36f",
   "metadata": {},
   "outputs": [],
   "source": [
    "ref = {i: 0 for i in df['location_sub_locality_name'].unique()}\n",
    "for i in ref.keys():\n",
    "    ref[i] = df[df['location_sub_locality_name'] == i]['price_per_sqm'].quantile(0.99)"
   ]
  },
  {
   "cell_type": "code",
   "execution_count": 44,
   "id": "b09df0a6",
   "metadata": {},
   "outputs": [],
   "source": [
    "ref_df = pd.DataFrame(\n",
    "    ref.values(), \n",
    "    index=ref.keys(), \n",
    "    columns=['cut']\n",
    ").reset_index(names=['location_sub_locality_name'])"
   ]
  },
  {
   "cell_type": "code",
   "execution_count": 45,
   "id": "2c04e885",
   "metadata": {},
   "outputs": [],
   "source": [
    "df = df.reset_index().merge(ref_df, on='location_sub_locality_name').set_index('cid')\n",
    "df = df[df['price_per_sqm'] < df['cut']].drop('cut', axis=1)"
   ]
  },
  {
   "cell_type": "code",
   "execution_count": 46,
   "id": "929a780d",
   "metadata": {},
   "outputs": [
    {
     "data": {
      "image/png": "[encoded data removed]",
      "text/plain": [
       "<Figure size 432x288 with 1 Axes>"
      ]
     },
     "metadata": {
      "needs_background": "light"
     },
     "output_type": "display_data"
    },
    {
     "data": {
      "image/png": "[encoded data removed]",
      "text/plain": [
       "<Figure size 432x288 with 1 Axes>"
      ]
     },
     "metadata": {
      "needs_background": "light"
     },
     "output_type": "display_data"
    }
   ],
   "source": [
    "sns.boxplot(data=df, y='price_per_sqm'); plt.show()\n",
    "sns.boxplot(data=df, y='price_per_sqm', x='location_sub_locality_name')\n",
    "plt.xticks(rotation=45); plt.show()"
   ]
  },
  {
   "cell_type": "code",
   "execution_count": 47,
   "id": "3bc8af39",
   "metadata": {},
   "outputs": [],
   "source": [
    "df.to_csv('cian_preprocessed_no_extreme.csv')"
   ]
  }
 ],
 "metadata": {
  "kernelspec": {
   "display_name": "Python 3 (ipykernel)",
   "language": "python",
   "name": "python3"
  },
  "language_info": {
   "codemirror_mode": {
    "name": "ipython",
    "version": 3
   },
   "file_extension": ".py",
   "mimetype": "text/x-python",
   "name": "python",
   "nbconvert_exporter": "python",
   "pygments_lexer": "ipython3",
   "version": "3.9.12"
  }
 },
 "nbformat": 4,
 "nbformat_minor": 5
}
